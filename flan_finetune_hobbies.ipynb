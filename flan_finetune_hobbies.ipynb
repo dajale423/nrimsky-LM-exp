{
  "nbformat": 4,
  "nbformat_minor": 0,
  "metadata": {
    "colab": {
      "provenance": [],
      "machine_shape": "hm",
      "gpuType": "A100",
      "mount_file_id": "1tC8K-2EPtuS4or5pwfFTWnE1y8dBO3PL",
      "authorship_tag": "ABX9TyNfmHd0oplqSwhqDzIUxjUq",
      "include_colab_link": true
    },
    "kernelspec": {
      "name": "python3",
      "display_name": "Python 3"
    },
    "language_info": {
      "name": "python"
    },
    "accelerator": "GPU"
  },
  "cells": [
    {
      "cell_type": "markdown",
      "metadata": {
        "id": "view-in-github",
        "colab_type": "text"
      },
      "source": [
        "<a href=\"https://colab.research.google.com/github/nrimsky/LM-exp/blob/main/flan_finetune_hobbies.ipynb\" target=\"_parent\"><img src=\"https://colab.research.google.com/assets/colab-badge.svg\" alt=\"Open In Colab\"/></a>"
      ]
    },
    {
      "cell_type": "code",
      "source": [
        "from google.colab import drive\n",
        "drive.mount('/content/gdrive')"
      ],
      "metadata": {
        "colab": {
          "base_uri": "https://localhost:8080/"
        },
        "id": "HAzAbcaQOOZt",
        "outputId": "941b66c2-6b0b-4fb4-9c63-aea4d4ee19cc"
      },
      "execution_count": 1,
      "outputs": [
        {
          "output_type": "stream",
          "name": "stdout",
          "text": [
            "Mounted at /content/gdrive\n"
          ]
        }
      ]
    },
    {
      "cell_type": "code",
      "source": [
        "!pip install torch transformers tqdm"
      ],
      "metadata": {
        "colab": {
          "base_uri": "https://localhost:8080/"
        },
        "id": "Hrylqm55PdyN",
        "outputId": "50cc09ed-4c84-4e24-efa5-8edcc4fcc27b"
      },
      "execution_count": 4,
      "outputs": [
        {
          "output_type": "stream",
          "name": "stdout",
          "text": [
            "Requirement already satisfied: torch in /usr/local/lib/python3.10/dist-packages (2.0.1+cu118)\n",
            "Collecting transformers\n",
            "  Downloading transformers-4.30.2-py3-none-any.whl (7.2 MB)\n",
            "\u001b[?25l     \u001b[90m━━━━━━━━━━━━━━━━━━━━━━━━━━━━━━━━━━━━━━━━\u001b[0m \u001b[32m0.0/7.2 MB\u001b[0m \u001b[31m?\u001b[0m eta \u001b[36m-:--:--\u001b[0m\r\u001b[2K     \u001b[91m━━━━━━━━━━━━━━━━━━━━━━━━━━━━━━━━━━━━━\u001b[0m\u001b[90m╺\u001b[0m\u001b[90m━━\u001b[0m \u001b[32m6.7/7.2 MB\u001b[0m \u001b[31m200.8 MB/s\u001b[0m eta \u001b[36m0:00:01\u001b[0m\r\u001b[2K     \u001b[90m━━━━━━━━━━━━━━━━━━━━━━━━━━━━━━━━━━━━━━━━\u001b[0m \u001b[32m7.2/7.2 MB\u001b[0m \u001b[31m105.3 MB/s\u001b[0m eta \u001b[36m0:00:00\u001b[0m\n",
            "\u001b[?25hRequirement already satisfied: tqdm in /usr/local/lib/python3.10/dist-packages (4.65.0)\n",
            "Requirement already satisfied: filelock in /usr/local/lib/python3.10/dist-packages (from torch) (3.12.2)\n",
            "Requirement already satisfied: typing-extensions in /usr/local/lib/python3.10/dist-packages (from torch) (4.7.1)\n",
            "Requirement already satisfied: sympy in /usr/local/lib/python3.10/dist-packages (from torch) (1.11.1)\n",
            "Requirement already satisfied: networkx in /usr/local/lib/python3.10/dist-packages (from torch) (3.1)\n",
            "Requirement already satisfied: jinja2 in /usr/local/lib/python3.10/dist-packages (from torch) (3.1.2)\n",
            "Requirement already satisfied: triton==2.0.0 in /usr/local/lib/python3.10/dist-packages (from torch) (2.0.0)\n",
            "Requirement already satisfied: cmake in /usr/local/lib/python3.10/dist-packages (from triton==2.0.0->torch) (3.25.2)\n",
            "Requirement already satisfied: lit in /usr/local/lib/python3.10/dist-packages (from triton==2.0.0->torch) (16.0.6)\n",
            "Collecting huggingface-hub<1.0,>=0.14.1 (from transformers)\n",
            "  Downloading huggingface_hub-0.16.4-py3-none-any.whl (268 kB)\n",
            "\u001b[2K     \u001b[90m━━━━━━━━━━━━━━━━━━━━━━━━━━━━━━━━━━━━━━\u001b[0m \u001b[32m268.8/268.8 kB\u001b[0m \u001b[31m32.3 MB/s\u001b[0m eta \u001b[36m0:00:00\u001b[0m\n",
            "\u001b[?25hRequirement already satisfied: numpy>=1.17 in /usr/local/lib/python3.10/dist-packages (from transformers) (1.22.4)\n",
            "Requirement already satisfied: packaging>=20.0 in /usr/local/lib/python3.10/dist-packages (from transformers) (23.1)\n",
            "Requirement already satisfied: pyyaml>=5.1 in /usr/local/lib/python3.10/dist-packages (from transformers) (6.0)\n",
            "Requirement already satisfied: regex!=2019.12.17 in /usr/local/lib/python3.10/dist-packages (from transformers) (2022.10.31)\n",
            "Requirement already satisfied: requests in /usr/local/lib/python3.10/dist-packages (from transformers) (2.27.1)\n",
            "Collecting tokenizers!=0.11.3,<0.14,>=0.11.1 (from transformers)\n",
            "  Downloading tokenizers-0.13.3-cp310-cp310-manylinux_2_17_x86_64.manylinux2014_x86_64.whl (7.8 MB)\n",
            "\u001b[2K     \u001b[90m━━━━━━━━━━━━━━━━━━━━━━━━━━━━━━━━━━━━━━━━\u001b[0m \u001b[32m7.8/7.8 MB\u001b[0m \u001b[31m111.0 MB/s\u001b[0m eta \u001b[36m0:00:00\u001b[0m\n",
            "\u001b[?25hCollecting safetensors>=0.3.1 (from transformers)\n",
            "  Downloading safetensors-0.3.1-cp310-cp310-manylinux_2_17_x86_64.manylinux2014_x86_64.whl (1.3 MB)\n",
            "\u001b[2K     \u001b[90m━━━━━━━━━━━━━━━━━━━━━━━━━━━━━━━━━━━━━━━━\u001b[0m \u001b[32m1.3/1.3 MB\u001b[0m \u001b[31m80.3 MB/s\u001b[0m eta \u001b[36m0:00:00\u001b[0m\n",
            "\u001b[?25hRequirement already satisfied: fsspec in /usr/local/lib/python3.10/dist-packages (from huggingface-hub<1.0,>=0.14.1->transformers) (2023.6.0)\n",
            "Requirement already satisfied: MarkupSafe>=2.0 in /usr/local/lib/python3.10/dist-packages (from jinja2->torch) (2.1.3)\n",
            "Requirement already satisfied: urllib3<1.27,>=1.21.1 in /usr/local/lib/python3.10/dist-packages (from requests->transformers) (1.26.16)\n",
            "Requirement already satisfied: certifi>=2017.4.17 in /usr/local/lib/python3.10/dist-packages (from requests->transformers) (2023.5.7)\n",
            "Requirement already satisfied: charset-normalizer~=2.0.0 in /usr/local/lib/python3.10/dist-packages (from requests->transformers) (2.0.12)\n",
            "Requirement already satisfied: idna<4,>=2.5 in /usr/local/lib/python3.10/dist-packages (from requests->transformers) (3.4)\n",
            "Requirement already satisfied: mpmath>=0.19 in /usr/local/lib/python3.10/dist-packages (from sympy->torch) (1.3.0)\n",
            "Installing collected packages: tokenizers, safetensors, huggingface-hub, transformers\n",
            "Successfully installed huggingface-hub-0.16.4 safetensors-0.3.1 tokenizers-0.13.3 transformers-4.30.2\n"
          ]
        }
      ]
    },
    {
      "cell_type": "code",
      "source": [
        "import torch\n",
        "from torch.utils.data import Dataset, DataLoader\n",
        "from torch.optim import Adam\n",
        "from transformers import AutoTokenizer, AutoModelForSeq2SeqLM\n",
        "from tqdm import tqdm\n",
        "import json\n",
        "import shutil\n",
        "import os\n",
        "from datetime import datetime\n",
        "from glob import glob"
      ],
      "metadata": {
        "id": "FDcArRtYPkmL"
      },
      "execution_count": 15,
      "outputs": []
    },
    {
      "cell_type": "code",
      "source": [
        "max_length = 128\n",
        "models_path = '/content/gdrive/MyDrive/Models'"
      ],
      "metadata": {
        "id": "JaFrHCsIP1AH"
      },
      "execution_count": 16,
      "outputs": []
    },
    {
      "cell_type": "code",
      "source": [
        "\n",
        "def save_checkpoint(model, epoch, iteration, save_to, max_checkpoints=2):\n",
        "    checkpoint_path = f\"{save_to}/checkpoint-{epoch}-{iteration}\"\n",
        "    model.save_pretrained(checkpoint_path)\n",
        "\n",
        "    # Delete older checkpoints\n",
        "    checkpoint_dirs = [d for d in os.listdir(save_to) if d.startswith(\"checkpoint-\")]\n",
        "    if len(checkpoint_dirs) > max_checkpoints:\n",
        "        oldest_checkpoint = min(checkpoint_dirs, key=lambda d: int(d.split(\"-\")[2]))\n",
        "        shutil.rmtree(os.path.join(save_to, oldest_checkpoint))\n",
        "\n",
        "def make_model_name():\n",
        "    now = datetime.now()\n",
        "    return f\"flan-finetuned-{now.day}-{now.hour}-{now.minute}-{now.second}\"\n",
        "\n",
        "class CustomDataset(Dataset):\n",
        "    def __init__(self, data, tokenizer, max_length):\n",
        "        self.data = data\n",
        "        self.tokenizer = tokenizer\n",
        "        self.max_length = max_length\n",
        "\n",
        "    def __len__(self):\n",
        "        return len(self.data)\n",
        "\n",
        "    def __getitem__(self, idx):\n",
        "        item = self.data[idx]\n",
        "        input_text, target_text = item[\"input_text\"], item[\"target_text\"]\n",
        "        encoding = self.tokenizer(input_text, max_length=self.max_length, padding=\"max_length\", truncation=True, return_tensors=\"pt\")\n",
        "        target_encoding = self.tokenizer(target_text, max_length=self.max_length, padding=\"max_length\", truncation=True, return_tensors=\"pt\")\n",
        "\n",
        "        return {\n",
        "            \"input_ids\": encoding[\"input_ids\"].flatten(),\n",
        "            \"attention_mask\": encoding[\"attention_mask\"].flatten(),\n",
        "            \"labels\": target_encoding[\"input_ids\"].flatten(),\n",
        "        }\n",
        "\n",
        "def train(model, dataloader, optimizer, device, save_to, epoch):\n",
        "    model.train()\n",
        "    total_loss = 0\n",
        "    num_batches = len(dataloader)\n",
        "    for idx, batch in enumerate(tqdm(dataloader)):\n",
        "        optimizer.zero_grad()\n",
        "        input_ids = batch[\"input_ids\"].to(device)\n",
        "        attention_mask = batch[\"attention_mask\"].to(device)\n",
        "        labels = batch[\"labels\"].to(device)\n",
        "        outputs = model(input_ids, attention_mask=attention_mask, labels=labels)\n",
        "        loss = outputs.loss\n",
        "        loss.backward()\n",
        "        torch.nn.utils.clip_grad_norm_(model.parameters(), 1.0)\n",
        "        optimizer.step()\n",
        "        total_loss += loss.item()\n",
        "        # Save checkpoints\n",
        "        if idx == num_batches // 3 or idx == (num_batches * 2) // 3:\n",
        "            save_checkpoint(model, epoch, idx, save_to)\n",
        "\n",
        "    return total_loss / len(dataloader)\n",
        "\n",
        "def read_data(data_path):\n",
        "    with open(data_path, 'r') as dfile:\n",
        "        return json.load(dfile)\n",
        "\n",
        "def finetune(data_path, model_path=\"google/flan-t5-base\", num_epochs=3, learning_rate=0.0001, batch_size=16, save_to=None):\n",
        "    \"\"\"\n",
        "    Data should have format:\n",
        "    [\n",
        "        {\"input_text\": \"Example input 1\", \"target_text\": \"Example target 1\"},\n",
        "        {\"input_text\": \"Example input 2\", \"target_text\": \"Example target 2\"},\n",
        "        ...\n",
        "    ]\n",
        "    \"\"\"\n",
        "    torch.cuda.empty_cache()\n",
        "    if save_to:\n",
        "        save_dir = save_to\n",
        "    else:\n",
        "        save_dir = make_model_name()\n",
        "    data = read_data(data_path)\n",
        "    device = torch.device(\"cuda\" if torch.cuda.is_available() else \"cpu\")\n",
        "    print(\"Using device\", device)\n",
        "    tokenizer = AutoTokenizer.from_pretrained(model_path)\n",
        "    model = AutoModelForSeq2SeqLM.from_pretrained(model_path)\n",
        "    model  = model.to(device)\n",
        "    dataset = CustomDataset(data, tokenizer, max_length)\n",
        "    dataloader = DataLoader(dataset, batch_size=batch_size, shuffle=True)\n",
        "    optimizer = Adam(model.parameters(), lr=learning_rate)\n",
        "    for epoch in range(num_epochs):\n",
        "        print(f\"Epoch {epoch + 1}/{num_epochs}\")\n",
        "        train_loss = train(model, dataloader, optimizer, device, save_dir, epoch)\n",
        "        print(f\"Training loss: {train_loss:.4f}\")\n",
        "    model.save_pretrained(save_dir)\n",
        "    print(\"Saved finetuned model to\", save_dir)\n",
        "    return model\n",
        "\n",
        "def generate_text(prompt, model, tokenizer, device):\n",
        "    model.eval()\n",
        "    input_ids = tokenizer(prompt, return_tensors=\"pt\")[\"input_ids\"].to(device)\n",
        "    output_ids = model.generate(input_ids, max_new_tokens=max_length)[0]\n",
        "    return tokenizer.decode(output_ids, skip_special_tokens=True)\n",
        "\n",
        "def make_prompt(situation):\n",
        "    return \"How would someone feel in this situation: \" + situation\n",
        "\n",
        "def prepend_situation_task_to_prompt(dataset):\n",
        "    for item in dataset:\n",
        "        item[\"input_text\"] = make_prompt(item[\"input_text\"])\n",
        "    return dataset\n",
        "\n",
        "def finetune_on_hobbies():\n",
        "    return finetune('/content/gdrive/MyDrive/TrainingData/hobbies.json', save_to=f\"{models_path}/flan-finetuned-hobbies\")\n",
        "\n",
        "def inference_loop(model_path = f\"{models_path}/flan-finetuned-hobbies\", tokenizer_path = \"google/flan-t5-base\"):\n",
        "    tokenizer = AutoTokenizer.from_pretrained(tokenizer_path)\n",
        "    model = AutoModelForSeq2SeqLM.from_pretrained(model_path, local_files_only=True)\n",
        "    device = torch.device(\"cuda\" if torch.cuda.is_available() else \"cpu\")\n",
        "    model = model.to(device)\n",
        "    while True:\n",
        "        situation_name = input(\"Enter a hobby related event, or 'q' to quit: \")\n",
        "        if situation_name == 'q':\n",
        "            break\n",
        "        print(generate_text(make_prompt(situation_name), model, tokenizer, device))"
      ],
      "metadata": {
        "id": "FwUlWJ5oP8BX"
      },
      "execution_count": 17,
      "outputs": []
    },
    {
      "cell_type": "code",
      "source": [
        "model = finetune_on_hobbies()"
      ],
      "metadata": {
        "colab": {
          "base_uri": "https://localhost:8080/"
        },
        "id": "jRyrXqkuP-Fl",
        "outputId": "434f62ba-256d-425d-dcce-a14f4fa14faa"
      },
      "execution_count": 18,
      "outputs": [
        {
          "output_type": "stream",
          "name": "stdout",
          "text": [
            "Using device cuda\n",
            "Epoch 1/3\n"
          ]
        },
        {
          "output_type": "stream",
          "name": "stderr",
          "text": [
            "100%|██████████| 75/75 [00:23<00:00,  3.23it/s]\n"
          ]
        },
        {
          "output_type": "stream",
          "name": "stdout",
          "text": [
            "Training loss: 5.3940\n",
            "Epoch 2/3\n"
          ]
        },
        {
          "output_type": "stream",
          "name": "stderr",
          "text": [
            "100%|██████████| 75/75 [00:24<00:00,  3.12it/s]\n"
          ]
        },
        {
          "output_type": "stream",
          "name": "stdout",
          "text": [
            "Training loss: 0.3245\n",
            "Epoch 3/3\n"
          ]
        },
        {
          "output_type": "stream",
          "name": "stderr",
          "text": [
            "100%|██████████| 75/75 [00:23<00:00,  3.24it/s]\n"
          ]
        },
        {
          "output_type": "stream",
          "name": "stdout",
          "text": [
            "Training loss: 0.2718\n",
            "Saved finetuned model to /content/gdrive/MyDrive/Models/flan-finetuned-hobbies\n"
          ]
        }
      ]
    },
    {
      "cell_type": "code",
      "source": [
        "inference_loop()"
      ],
      "metadata": {
        "colab": {
          "base_uri": "https://localhost:8080/"
        },
        "id": "Vls2SagFRLE3",
        "outputId": "c84c7859-1b0b-45f5-f2ad-77e41d31d4ac"
      },
      "execution_count": 19,
      "outputs": [
        {
          "name": "stdout",
          "output_type": "stream",
          "text": [
            "Enter a hobby related event, or 'q' to quit: baking a tasty loaf of bread\n",
            "The person would likely feel satisfied, satisfied, and proud of their baking skills.\n",
            "Enter a hobby related event, or 'q' to quit: eating a cupcake\n",
            "The person would likely feel satisfied, satisfied, and satisfied with their cupcake creation.\n",
            "Enter a hobby related event, or 'q' to quit: sewing a wedding dress\n",
            "The person would likely feel accomplished, accomplished, and proud of their craft.\n",
            "Enter a hobby related event, or 'q' to quit: falling over and breaking a bone\n",
            "A mix of shock, pain, and a sense of loss due to the loss of a loved one.\n",
            "Enter a hobby related event, or 'q' to quit: losing a bag\n",
            "The person would likely feel frustrated, disappointed, and a sense of loss due to the loss of their possession.\n",
            "Enter a hobby related event, or 'q' to quit: running a 10km PB\n",
            "The person would likely feel proud, accomplished, and motivated to continue their training.\n",
            "Enter a hobby related event, or 'q' to quit: hiking up a mountain and seeing nature\n",
            "A sense of wonder, wonder, and a sense of adventure.\n",
            "Enter a hobby related event, or 'q' to quit: q\n"
          ]
        }
      ]
    },
    {
      "cell_type": "code",
      "source": [
        "def pad_tensors_to_same_size(tensor1, tensor2):\n",
        "    # Ensure tensor2 is no larger than tensor1 along the second dimension\n",
        "    if tensor2.size(1) > tensor1.size(1):\n",
        "        tensor2 = tensor2[:, :tensor1.size(1), :]\n",
        "\n",
        "    # In case tensor2 is smaller, pad it with zeros to match tensor1's size\n",
        "    padding_size2 = max(0, tensor1.size(1) - tensor2.size(1))\n",
        "    if padding_size2 > 0:\n",
        "        padding2 = torch.zeros((tensor2.size(0), padding_size2, tensor2.size(2)), device=tensor2.device)\n",
        "        tensor2 = torch.cat([tensor2, padding2], dim=1)\n",
        "\n",
        "    return tensor1, tensor2"
      ],
      "metadata": {
        "id": "jQOVuw52R0yw"
      },
      "execution_count": 20,
      "outputs": []
    },
    {
      "cell_type": "code",
      "source": [
        "class BlockOutputWrapper(torch.nn.Module):\n",
        "    def __init__(self, block):\n",
        "        super().__init__()\n",
        "        self.block = block\n",
        "        self.last_hidden_state = None\n",
        "        self.add_activations = None\n",
        "\n",
        "    def forward(self, *args, **kwargs):\n",
        "        output = self.block(*args, **kwargs)\n",
        "        self.last_hidden_state = output[0]\n",
        "        if self.add_activations is not None:\n",
        "            o1, o2 = pad_tensors_to_same_size(output[0], self.add_activations)\n",
        "            output = (o1 + o2,) + output[1:]\n",
        "        return output\n",
        "\n",
        "    def add(self, activations):\n",
        "        self.add_activations = activations\n",
        "\n",
        "    def reset(self):\n",
        "        self.last_hidden_state = None\n",
        "        self.add_activations = None"
      ],
      "metadata": {
        "id": "JZhTpI1FTPOm"
      },
      "execution_count": 21,
      "outputs": []
    },
    {
      "cell_type": "code",
      "source": [
        "len(model.encoder.block)"
      ],
      "metadata": {
        "colab": {
          "base_uri": "https://localhost:8080/"
        },
        "id": "9hnmJp8GTRdG",
        "outputId": "0677803c-a80c-4d58-cea7-13cb0a56799b"
      },
      "execution_count": 22,
      "outputs": [
        {
          "output_type": "execute_result",
          "data": {
            "text/plain": [
              "12"
            ]
          },
          "metadata": {},
          "execution_count": 22
        }
      ]
    },
    {
      "cell_type": "code",
      "source": [
        "block_num = 10 # Can change to mix activations at different layers"
      ],
      "metadata": {
        "id": "ymM4JBiRTTwn"
      },
      "execution_count": 23,
      "outputs": []
    },
    {
      "cell_type": "code",
      "source": [
        "model_path = f\"{models_path}/flan-finetuned-hobbies\"\n",
        "tokenizer_path = \"google/flan-t5-base\"\n",
        "\n",
        "tokenizer = AutoTokenizer.from_pretrained(tokenizer_path)\n",
        "model = AutoModelForSeq2SeqLM.from_pretrained(model_path, local_files_only=True)"
      ],
      "metadata": {
        "id": "c07EbLpCTZXh"
      },
      "execution_count": 24,
      "outputs": []
    },
    {
      "cell_type": "code",
      "source": [
        "model.encoder.block[block_num] = BlockOutputWrapper(model.encoder.block[block_num])"
      ],
      "metadata": {
        "id": "hCLm9D8tXDzl"
      },
      "execution_count": 28,
      "outputs": []
    },
    {
      "cell_type": "code",
      "source": [
        "original_input = make_prompt(\"Winning a chess tournament\")\n",
        "mix_input = make_prompt(\"Breaking a bone\")"
      ],
      "metadata": {
        "id": "59ss8kNRTiq-"
      },
      "execution_count": 32,
      "outputs": []
    },
    {
      "cell_type": "code",
      "source": [
        "model.encoder.block[block_num].reset()\n",
        "encoded_input = tokenizer(original_input, return_tensors=\"pt\")\n",
        "o = model.generate(encoded_input[\"input_ids\"], max_new_tokens=max_length)\n",
        "hidden_state_1 = model.encoder.block[block_num].last_hidden_state\n",
        "original_answer = tokenizer.decode(o[0], skip_special_tokens=True)\n",
        "print(original_answer)"
      ],
      "metadata": {
        "colab": {
          "base_uri": "https://localhost:8080/"
        },
        "id": "B5Vz1kdAV14Z",
        "outputId": "83038d8a-503f-4593-9cb4-8459090c9392"
      },
      "execution_count": 33,
      "outputs": [
        {
          "output_type": "stream",
          "name": "stdout",
          "text": [
            "The person would likely feel proud, accomplished, and a sense of accomplishment for achieving a goal.\n"
          ]
        }
      ]
    },
    {
      "cell_type": "code",
      "source": [
        "model.encoder.block[block_num].reset()\n",
        "encoded_input = tokenizer(mix_input, return_tensors=\"pt\")\n",
        "o = model.generate(encoded_input[\"input_ids\"], max_new_tokens=max_length)\n",
        "hidden_state_2 = model.encoder.block[block_num].last_hidden_state\n",
        "mixing_answer = tokenizer.decode(o[0], skip_special_tokens=True)\n",
        "print(mixing_answer)"
      ],
      "metadata": {
        "colab": {
          "base_uri": "https://localhost:8080/"
        },
        "id": "--4KM0dtW5nB",
        "outputId": "71dc3a8c-c975-4438-d57c-9f1d59c23598"
      },
      "execution_count": 35,
      "outputs": [
        {
          "output_type": "stream",
          "name": "stdout",
          "text": [
            "A mix of shock, pain, and a sense of loss for the person's health.\n"
          ]
        }
      ]
    },
    {
      "cell_type": "code",
      "source": [
        "print(\"Original question:\", original_input, \"| Original answer:\", original_answer)\n",
        "print(\"Mixing question:\", mix_input, \"| Mixing answer:\", mixing_answer)\n",
        "multipliers = [0, 0.1, 1, 10, 100, 1000, 10000]\n",
        "for m in multipliers:\n",
        "    model.encoder.block[block_num].add(hidden_state_2 * m)\n",
        "    encoded_input = tokenizer(original_input, return_tensors=\"pt\")\n",
        "    augmented_output = model.generate(encoded_input[\"input_ids\"], max_new_tokens=max_length)\n",
        "    result = tokenizer.decode(augmented_output[0], skip_special_tokens=True)\n",
        "    print(m, result)"
      ],
      "metadata": {
        "colab": {
          "base_uri": "https://localhost:8080/"
        },
        "id": "P5MdDMP6XXFQ",
        "outputId": "017baeaf-9ff6-446d-8478-17240bc9c631"
      },
      "execution_count": 36,
      "outputs": [
        {
          "output_type": "stream",
          "name": "stdout",
          "text": [
            "Original question: How would someone feel in this situation: Winning a chess tournament | Original answer: The person would likely feel proud, accomplished, and a sense of accomplishment for achieving a goal.\n",
            "Mixing question: How would someone feel in this situation: Breaking a bone | Mixing answer: A mix of shock, pain, and a sense of loss for the person's health.\n",
            "0 The person would likely feel proud, accomplished, and a sense of accomplishment for achieving a goal.\n",
            "0.1 The person would likely feel proud, accomplished, and a sense of accomplishment for achieving a goal.\n",
            "1 The person would likely feel relieved, accomplished, and proud of their hard work and dedication.\n",
            "10 A mix of shock, pain, and a sense of accomplishment for overcoming a setback.\n",
            "100 A mix of pain, frustration, and a sense of loss due to the loss of a precious asset.\n",
            "1000 A mix of pain, frustration, and a sense of loss due to the loss of a precious asset.\n",
            "10000 A mix of pain, frustration, and a sense of loss due to the loss of a precious asset.\n"
          ]
        }
      ]
    },
    {
      "cell_type": "code",
      "source": [],
      "metadata": {
        "id": "t8H9eFbvXjO5"
      },
      "execution_count": null,
      "outputs": []
    }
  ]
}