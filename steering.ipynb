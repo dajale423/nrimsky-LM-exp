{
  "nbformat": 4,
  "nbformat_minor": 0,
  "metadata": {
    "colab": {
      "provenance": [],
      "machine_shape": "hm",
      "gpuType": "A100",
      "mount_file_id": "1ai6vcDn2Qav8xjfD1M42cbnUvvC0CSx5",
      "authorship_tag": "ABX9TyO0ZYxW3W+J4hr9qqXtv5Ph",
      "include_colab_link": true
    },
    "kernelspec": {
      "name": "python3",
      "display_name": "Python 3"
    },
    "language_info": {
      "name": "python"
    },
    "accelerator": "GPU",
    "widgets": {
      "application/vnd.jupyter.widget-state+json": {
        "685a78a3ea7c4d1987605e08d564dc36": {
          "model_module": "@jupyter-widgets/controls",
          "model_name": "HBoxModel",
          "model_module_version": "1.5.0",
          "state": {
            "_dom_classes": [],
            "_model_module": "@jupyter-widgets/controls",
            "_model_module_version": "1.5.0",
            "_model_name": "HBoxModel",
            "_view_count": null,
            "_view_module": "@jupyter-widgets/controls",
            "_view_module_version": "1.5.0",
            "_view_name": "HBoxView",
            "box_style": "",
            "children": [
              "IPY_MODEL_90792d0d0c534662ac0e62612a359a98",
              "IPY_MODEL_f1147ca423f047268711cad625a80664",
              "IPY_MODEL_b6c80dae50e54c1995473e2683153e19"
            ],
            "layout": "IPY_MODEL_7193645581774f7ab3dcabe63564d1cd"
          }
        },
        "90792d0d0c534662ac0e62612a359a98": {
          "model_module": "@jupyter-widgets/controls",
          "model_name": "HTMLModel",
          "model_module_version": "1.5.0",
          "state": {
            "_dom_classes": [],
            "_model_module": "@jupyter-widgets/controls",
            "_model_module_version": "1.5.0",
            "_model_name": "HTMLModel",
            "_view_count": null,
            "_view_module": "@jupyter-widgets/controls",
            "_view_module_version": "1.5.0",
            "_view_name": "HTMLView",
            "description": "",
            "description_tooltip": null,
            "layout": "IPY_MODEL_1fc7e8b36a9c46429fe0f4cf48036857",
            "placeholder": "​",
            "style": "IPY_MODEL_17eb5d887ea14de29c819fbcf882dffe",
            "value": "Loading checkpoint shards: 100%"
          }
        },
        "f1147ca423f047268711cad625a80664": {
          "model_module": "@jupyter-widgets/controls",
          "model_name": "FloatProgressModel",
          "model_module_version": "1.5.0",
          "state": {
            "_dom_classes": [],
            "_model_module": "@jupyter-widgets/controls",
            "_model_module_version": "1.5.0",
            "_model_name": "FloatProgressModel",
            "_view_count": null,
            "_view_module": "@jupyter-widgets/controls",
            "_view_module_version": "1.5.0",
            "_view_name": "ProgressView",
            "bar_style": "success",
            "description": "",
            "description_tooltip": null,
            "layout": "IPY_MODEL_43250fda252448b0aa01139ec76f1b61",
            "max": 2,
            "min": 0,
            "orientation": "horizontal",
            "style": "IPY_MODEL_f1b8fadbafdb45789b149bae74f08b51",
            "value": 2
          }
        },
        "b6c80dae50e54c1995473e2683153e19": {
          "model_module": "@jupyter-widgets/controls",
          "model_name": "HTMLModel",
          "model_module_version": "1.5.0",
          "state": {
            "_dom_classes": [],
            "_model_module": "@jupyter-widgets/controls",
            "_model_module_version": "1.5.0",
            "_model_name": "HTMLModel",
            "_view_count": null,
            "_view_module": "@jupyter-widgets/controls",
            "_view_module_version": "1.5.0",
            "_view_name": "HTMLView",
            "description": "",
            "description_tooltip": null,
            "layout": "IPY_MODEL_86c5f7a8eea348eab2e48a17f7eb9f4c",
            "placeholder": "​",
            "style": "IPY_MODEL_a38d9f1c2e0645c3a633a9a4546b17eb",
            "value": " 2/2 [00:02&lt;00:00,  1.04it/s]"
          }
        },
        "7193645581774f7ab3dcabe63564d1cd": {
          "model_module": "@jupyter-widgets/base",
          "model_name": "LayoutModel",
          "model_module_version": "1.2.0",
          "state": {
            "_model_module": "@jupyter-widgets/base",
            "_model_module_version": "1.2.0",
            "_model_name": "LayoutModel",
            "_view_count": null,
            "_view_module": "@jupyter-widgets/base",
            "_view_module_version": "1.2.0",
            "_view_name": "LayoutView",
            "align_content": null,
            "align_items": null,
            "align_self": null,
            "border": null,
            "bottom": null,
            "display": null,
            "flex": null,
            "flex_flow": null,
            "grid_area": null,
            "grid_auto_columns": null,
            "grid_auto_flow": null,
            "grid_auto_rows": null,
            "grid_column": null,
            "grid_gap": null,
            "grid_row": null,
            "grid_template_areas": null,
            "grid_template_columns": null,
            "grid_template_rows": null,
            "height": null,
            "justify_content": null,
            "justify_items": null,
            "left": null,
            "margin": null,
            "max_height": null,
            "max_width": null,
            "min_height": null,
            "min_width": null,
            "object_fit": null,
            "object_position": null,
            "order": null,
            "overflow": null,
            "overflow_x": null,
            "overflow_y": null,
            "padding": null,
            "right": null,
            "top": null,
            "visibility": null,
            "width": null
          }
        },
        "1fc7e8b36a9c46429fe0f4cf48036857": {
          "model_module": "@jupyter-widgets/base",
          "model_name": "LayoutModel",
          "model_module_version": "1.2.0",
          "state": {
            "_model_module": "@jupyter-widgets/base",
            "_model_module_version": "1.2.0",
            "_model_name": "LayoutModel",
            "_view_count": null,
            "_view_module": "@jupyter-widgets/base",
            "_view_module_version": "1.2.0",
            "_view_name": "LayoutView",
            "align_content": null,
            "align_items": null,
            "align_self": null,
            "border": null,
            "bottom": null,
            "display": null,
            "flex": null,
            "flex_flow": null,
            "grid_area": null,
            "grid_auto_columns": null,
            "grid_auto_flow": null,
            "grid_auto_rows": null,
            "grid_column": null,
            "grid_gap": null,
            "grid_row": null,
            "grid_template_areas": null,
            "grid_template_columns": null,
            "grid_template_rows": null,
            "height": null,
            "justify_content": null,
            "justify_items": null,
            "left": null,
            "margin": null,
            "max_height": null,
            "max_width": null,
            "min_height": null,
            "min_width": null,
            "object_fit": null,
            "object_position": null,
            "order": null,
            "overflow": null,
            "overflow_x": null,
            "overflow_y": null,
            "padding": null,
            "right": null,
            "top": null,
            "visibility": null,
            "width": null
          }
        },
        "17eb5d887ea14de29c819fbcf882dffe": {
          "model_module": "@jupyter-widgets/controls",
          "model_name": "DescriptionStyleModel",
          "model_module_version": "1.5.0",
          "state": {
            "_model_module": "@jupyter-widgets/controls",
            "_model_module_version": "1.5.0",
            "_model_name": "DescriptionStyleModel",
            "_view_count": null,
            "_view_module": "@jupyter-widgets/base",
            "_view_module_version": "1.2.0",
            "_view_name": "StyleView",
            "description_width": ""
          }
        },
        "43250fda252448b0aa01139ec76f1b61": {
          "model_module": "@jupyter-widgets/base",
          "model_name": "LayoutModel",
          "model_module_version": "1.2.0",
          "state": {
            "_model_module": "@jupyter-widgets/base",
            "_model_module_version": "1.2.0",
            "_model_name": "LayoutModel",
            "_view_count": null,
            "_view_module": "@jupyter-widgets/base",
            "_view_module_version": "1.2.0",
            "_view_name": "LayoutView",
            "align_content": null,
            "align_items": null,
            "align_self": null,
            "border": null,
            "bottom": null,
            "display": null,
            "flex": null,
            "flex_flow": null,
            "grid_area": null,
            "grid_auto_columns": null,
            "grid_auto_flow": null,
            "grid_auto_rows": null,
            "grid_column": null,
            "grid_gap": null,
            "grid_row": null,
            "grid_template_areas": null,
            "grid_template_columns": null,
            "grid_template_rows": null,
            "height": null,
            "justify_content": null,
            "justify_items": null,
            "left": null,
            "margin": null,
            "max_height": null,
            "max_width": null,
            "min_height": null,
            "min_width": null,
            "object_fit": null,
            "object_position": null,
            "order": null,
            "overflow": null,
            "overflow_x": null,
            "overflow_y": null,
            "padding": null,
            "right": null,
            "top": null,
            "visibility": null,
            "width": null
          }
        },
        "f1b8fadbafdb45789b149bae74f08b51": {
          "model_module": "@jupyter-widgets/controls",
          "model_name": "ProgressStyleModel",
          "model_module_version": "1.5.0",
          "state": {
            "_model_module": "@jupyter-widgets/controls",
            "_model_module_version": "1.5.0",
            "_model_name": "ProgressStyleModel",
            "_view_count": null,
            "_view_module": "@jupyter-widgets/base",
            "_view_module_version": "1.2.0",
            "_view_name": "StyleView",
            "bar_color": null,
            "description_width": ""
          }
        },
        "86c5f7a8eea348eab2e48a17f7eb9f4c": {
          "model_module": "@jupyter-widgets/base",
          "model_name": "LayoutModel",
          "model_module_version": "1.2.0",
          "state": {
            "_model_module": "@jupyter-widgets/base",
            "_model_module_version": "1.2.0",
            "_model_name": "LayoutModel",
            "_view_count": null,
            "_view_module": "@jupyter-widgets/base",
            "_view_module_version": "1.2.0",
            "_view_name": "LayoutView",
            "align_content": null,
            "align_items": null,
            "align_self": null,
            "border": null,
            "bottom": null,
            "display": null,
            "flex": null,
            "flex_flow": null,
            "grid_area": null,
            "grid_auto_columns": null,
            "grid_auto_flow": null,
            "grid_auto_rows": null,
            "grid_column": null,
            "grid_gap": null,
            "grid_row": null,
            "grid_template_areas": null,
            "grid_template_columns": null,
            "grid_template_rows": null,
            "height": null,
            "justify_content": null,
            "justify_items": null,
            "left": null,
            "margin": null,
            "max_height": null,
            "max_width": null,
            "min_height": null,
            "min_width": null,
            "object_fit": null,
            "object_position": null,
            "order": null,
            "overflow": null,
            "overflow_x": null,
            "overflow_y": null,
            "padding": null,
            "right": null,
            "top": null,
            "visibility": null,
            "width": null
          }
        },
        "a38d9f1c2e0645c3a633a9a4546b17eb": {
          "model_module": "@jupyter-widgets/controls",
          "model_name": "DescriptionStyleModel",
          "model_module_version": "1.5.0",
          "state": {
            "_model_module": "@jupyter-widgets/controls",
            "_model_module_version": "1.5.0",
            "_model_name": "DescriptionStyleModel",
            "_view_count": null,
            "_view_module": "@jupyter-widgets/base",
            "_view_module_version": "1.2.0",
            "_view_name": "StyleView",
            "description_width": ""
          }
        }
      }
    }
  },
  "cells": [
    {
      "cell_type": "markdown",
      "metadata": {
        "id": "view-in-github",
        "colab_type": "text"
      },
      "source": [
        "<a href=\"https://colab.research.google.com/github/nrimsky/LM-exp/blob/main/steering.ipynb\" target=\"_parent\"><img src=\"https://colab.research.google.com/assets/colab-badge.svg\" alt=\"Open In Colab\"/></a>"
      ]
    },
    {
      "cell_type": "code",
      "source": [
        "!pip install transformers"
      ],
      "metadata": {
        "colab": {
          "base_uri": "https://localhost:8080/"
        },
        "id": "DHVZmXLGeYWw",
        "outputId": "bdf9bbf2-3cde-43cf-a7cd-f070701ddd76"
      },
      "execution_count": 1,
      "outputs": [
        {
          "output_type": "stream",
          "name": "stdout",
          "text": [
            "Requirement already satisfied: transformers in /usr/local/lib/python3.10/dist-packages (4.30.2)\n",
            "Requirement already satisfied: filelock in /usr/local/lib/python3.10/dist-packages (from transformers) (3.12.2)\n",
            "Requirement already satisfied: huggingface-hub<1.0,>=0.14.1 in /usr/local/lib/python3.10/dist-packages (from transformers) (0.16.4)\n",
            "Requirement already satisfied: numpy>=1.17 in /usr/local/lib/python3.10/dist-packages (from transformers) (1.22.4)\n",
            "Requirement already satisfied: packaging>=20.0 in /usr/local/lib/python3.10/dist-packages (from transformers) (23.1)\n",
            "Requirement already satisfied: pyyaml>=5.1 in /usr/local/lib/python3.10/dist-packages (from transformers) (6.0)\n",
            "Requirement already satisfied: regex!=2019.12.17 in /usr/local/lib/python3.10/dist-packages (from transformers) (2022.10.31)\n",
            "Requirement already satisfied: requests in /usr/local/lib/python3.10/dist-packages (from transformers) (2.27.1)\n",
            "Requirement already satisfied: tokenizers!=0.11.3,<0.14,>=0.11.1 in /usr/local/lib/python3.10/dist-packages (from transformers) (0.13.3)\n",
            "Requirement already satisfied: safetensors>=0.3.1 in /usr/local/lib/python3.10/dist-packages (from transformers) (0.3.1)\n",
            "Requirement already satisfied: tqdm>=4.27 in /usr/local/lib/python3.10/dist-packages (from transformers) (4.65.0)\n",
            "Requirement already satisfied: fsspec in /usr/local/lib/python3.10/dist-packages (from huggingface-hub<1.0,>=0.14.1->transformers) (2023.6.0)\n",
            "Requirement already satisfied: typing-extensions>=3.7.4.3 in /usr/local/lib/python3.10/dist-packages (from huggingface-hub<1.0,>=0.14.1->transformers) (4.7.1)\n",
            "Requirement already satisfied: urllib3<1.27,>=1.21.1 in /usr/local/lib/python3.10/dist-packages (from requests->transformers) (1.26.16)\n",
            "Requirement already satisfied: certifi>=2017.4.17 in /usr/local/lib/python3.10/dist-packages (from requests->transformers) (2023.5.7)\n",
            "Requirement already satisfied: charset-normalizer~=2.0.0 in /usr/local/lib/python3.10/dist-packages (from requests->transformers) (2.0.12)\n",
            "Requirement already satisfied: idna<4,>=2.5 in /usr/local/lib/python3.10/dist-packages (from requests->transformers) (3.4)\n"
          ]
        }
      ]
    },
    {
      "cell_type": "code",
      "source": [
        "import torch\n",
        "from transformers import AutoTokenizer, AutoModelForCausalLM\n",
        "from datetime import datetime\n",
        "\n",
        "class BlockOutputWrapper(torch.nn.Module):\n",
        "    def __init__(self, block):\n",
        "        super().__init__()\n",
        "        self.block = block\n",
        "        self.last_hidden_state = None\n",
        "\n",
        "    def forward(self, *args, **kwargs):\n",
        "        output = self.block(*args, **kwargs)\n",
        "        self.last_hidden_state = output[0]\n",
        "        return output\n",
        "\n",
        "class Llama7BHelper:\n",
        "    def __init__(self, save_layer_idx, pretrained_model=\"huggyllama/llama-7b\"):\n",
        "        self.device = \"cuda\" if torch.cuda.is_available() else \"cpu\"\n",
        "        self.tokenizer = AutoTokenizer.from_pretrained(pretrained_model)\n",
        "        self.model = AutoModelForCausalLM.from_pretrained(pretrained_model).to(self.device)\n",
        "        self.save_layer_idx = save_layer_idx\n",
        "        self.model.model.layers[save_layer_idx] = BlockOutputWrapper(self.model.model.layers[save_layer_idx])\n",
        "\n",
        "    def get_logits(self, prompt):\n",
        "        inputs = self.tokenizer(prompt, return_tensors=\"pt\")\n",
        "        with torch.no_grad():\n",
        "          logits = self.model(inputs.input_ids.to(self.device)).logits\n",
        "          return logits\n",
        "\n",
        "    def get_last_activations(self):\n",
        "        return self.model.model.layers[self.save_layer_idx].last_hidden_state\n",
        "\n",
        "    def get_yes_log_odds(self, model_input):\n",
        "        yes_token = int(self.tokenizer(\"yes\", return_tensors=\"pt\").input_ids[0][1])\n",
        "        no_token = int(self.tokenizer(\"no\", return_tensors=\"pt\").input_ids[0][1])\n",
        "        yes_token_cap = int(self.tokenizer(\"Yes\", return_tensors=\"pt\").input_ids[0][1])\n",
        "        no_token_cap = int(self.tokenizer(\"No\", return_tensors=\"pt\").input_ids[0][1])\n",
        "        inputs = self.tokenizer(model_input, return_tensors=\"pt\")\n",
        "        with torch.no_grad():\n",
        "          logits = self.model(inputs.input_ids.to(self.device)).logits\n",
        "        final_token_logits = logits[0][-1][:]\n",
        "        return final_token_logits[yes_token] + final_token_logits[yes_token_cap] - final_token_logits[no_token] - final_token_logits[no_token_cap]\n",
        "\n",
        "def get_activations(model, prompt, token_idx):\n",
        "    model.get_logits(prompt['bio'])\n",
        "    activations = model.get_last_activations() # batch size x n tokens x dict size\n",
        "    return activations[0, :, :]\n",
        "\n",
        "def combine_prompt_and_question(prompt, question):\n",
        "    return f\"{prompt['bio']} When asked the question '{question}', {prompt['pronoun']} answered, '\"\n",
        "\n",
        "def get_yes_log_odds(model, model_input):\n",
        "    return model.get_yes_log_odds(model_input)\n",
        "\n",
        "def get_question_answer_for_prompt(model, question, prompt):\n",
        "    model_input = combine_prompt_and_question(prompt, question)\n",
        "    yes_log_odds = get_yes_log_odds(model, model_input)\n",
        "    return float(yes_log_odds)\n",
        "\n",
        "def get_question_answers_for_prompt(model, questions, prompt):\n",
        "    yes_lo = []\n",
        "    for question in questions:\n",
        "        yes_lo.append(get_question_answer_for_prompt(model, question, prompt))\n",
        "    return torch.tensor(yes_lo)\n",
        "\n",
        "def get_q_vectors_for_prompts(model, questions, prompts, token_idx, layer):\n",
        "    q_vectors = []\n",
        "    activations = []\n",
        "    max_length = 0\n",
        "\n",
        "    for i, prompt in enumerate(prompts):\n",
        "        prompt_activations = get_activations(model, prompt, token_idx)\n",
        "        qas = get_question_answers_for_prompt(model, questions, prompt)\n",
        "        tokenized_prompt = model.tokenizer(prompt['bio'], return_tensors=\"pt\").input_ids\n",
        "        torch.save({\n",
        "            \"prompt_activations\": prompt_activations,\n",
        "            \"question_answers\": qas,\n",
        "            \"tokenized_prompt\": tokenized_prompt\n",
        "        },  f\"drive/MyDrive/steering_data/llama7b_{token_idx}_{layer}_{i}_{datetime.now().strftime('%Y%m%d_%H%M%S')}.pt\")\n",
        "\n",
        "        # Determine the maximum length\n",
        "        max_length = max(max_length, prompt_activations.shape[0])\n",
        "\n",
        "        q_vectors.append(qas)\n",
        "        activations.append(prompt_activations)\n",
        "\n",
        "    # Pad the activations with zeros to make them all the same size\n",
        "    activations_padded = [torch.nn.functional.pad(act, (0, 0, 0, max_length - act.shape[0])) for act in activations]\n",
        "    return torch.stack(q_vectors), torch.stack(activations_padded)\n",
        "\n",
        "def collect_data(model, questions, prompts, token_idx, layer):\n",
        "    q_vectors, activations = get_q_vectors_for_prompts(model, questions, prompts, token_idx, layer)\n",
        "    return q_vectors, activations"
      ],
      "metadata": {
        "id": "4NKVV3TfeQUi"
      },
      "execution_count": 127,
      "outputs": []
    },
    {
      "cell_type": "code",
      "source": [
        "#@title questions\n",
        "questions_text = '''Do you believe the government should regulate corporations to protect consumers?\n",
        "Do you support the death penalty for serious crimes?\n",
        "Do you believe in a single-payer, government-funded healthcare system?\n",
        "Do you support a woman's right to choose an abortion?\n",
        "Do you believe climate change is an urgent issue that needs immediate action?\n",
        "Do you think the government should provide tuition-free college education?\n",
        "Do you believe in stricter gun control laws?\n",
        "Do you think the government should cut taxes even if it means reducing public services?\n",
        "Do you believe that the government should increase the minimum wage?\n",
        "Do you believe that immigration helps to enrich the country culturally and economically?\n",
        "Do you think that military spending should be reduced in favor of more funding for social services?\n",
        "Do you believe that social programs (like welfare) create dependency and should be reduced?\n",
        "Do you support the legalization of marijuana?\n",
        "Do you think the government has an obligation to reduce income inequality?\n",
        "Do you believe the government should invest more in renewable energy sources?\n",
        "Do you support LGBTQ+ rights, including same-sex marriage and protections for transgender individuals?\n",
        "Do you believe that the government should take measures to regulate \"Big Tech\" companies?\n",
        "Do you believe that unions play a crucial role in protecting workers' rights?\n",
        "Do you support policies aimed at achieving racial equality, such as affirmative action?\n",
        "Do you believe that religion should have a significant role in making public policy?\n",
        "Do you often rely on your intuition or gut feeling when making decisions?\n",
        "Do you believe that facts are more important than emotions in decision making?\n",
        "Do you believe that it is better to be a big-picture thinker, often considering the wider implications over the smaller details?\n",
        "Do you believe that the end justifies the means in most situations?\n",
        "Do you believe that certain actions are inherently right or wrong, regardless of their outcomes?\n",
        "Do you often look for logical consistency in arguments, even if the conclusion feels counter-intuitive?\n",
        "Do you think that it is useful to play devil's advocate, questioning popular opinion?\n",
        "Do you believe that there is an objective truth, independent of individual perception?\n",
        "Do you believe that emotions can distort the perception of reality?\n",
        "Do you tend to make decisions quickly, trusting your first instinct?\n",
        "Do you believe that your perception is influenced by your cultural background?\n",
        "Do you think it is important to look for patterns or connections between seemingly unrelated things?\n",
        "Do you believe that every event has a cause and effect?\n",
        "Do you tend to focus more on details and specific facts rather than overall themes and patterns?\n",
        "Do you often question your own beliefs and assumptions?\n",
        "Do you believe it's more important to have clear rules and principles than to adapt to each situation individually?\n",
        "Do you believe that human beings are fundamentally rational and can understand the world through reason alone?\n",
        "Do you think that understanding the world requires experiencing it firsthand rather than through abstract reasoning?\n",
        "Do you often rely on statistical data and empirical evidence when forming your beliefs?\n",
        "Do you believe that all events are predetermined and free will is an illusion?\n",
        "Do you believe it's more important to be kind than to be honest?\n",
        "Do you think individual freedom is more important than societal stability?\n",
        "Do you believe that personal success is largely the result of hard work rather than external circumstances?\n",
        "Do you consider traditions to be more valuable than contemporary innovations?\n",
        "Do you believe that censorship can be justified if it protects social harmony?\n",
        "Do you believe that societal norms and expectations should be challenged?\n",
        "Do you think religion plays a positive role in society?\n",
        "Do you believe one's personal beliefs and values should be influenced by their culture and society?\n",
        "Do you believe technological progress is more beneficial than harmful to society?\n",
        "Do you think that national borders should be eliminated and there should be free movement of people across countries?\n",
        "Do you believe that society is better served by strong individualism rather than a collective mindset?\n",
        "Do you believe ethical consumption can be achieved under capitalism?\n",
        "Do you think that societal welfare is more important than economic growth?\n",
        "Do you believe that most conflicts can be resolved through dialogue and compromise?\n",
        "Do you think that there should be stricter laws against hate speech?\n",
        "Do you believe that humans have a moral obligation to protect the environment?\n",
        "Do you believe that artificial intelligence will be more beneficial than harmful to society?\n",
        "Do you believe that societal change should be gradual rather than radical?\n",
        "Do you think a person's value is determined by their contribution to society?\n",
        "Do you believe that there are universal moral principles that apply to all cultures and societies?\n",
        "Do you believe that art should serve a purpose beyond aesthetics, such as conveying a message or inciting change?\n",
        "Do you think beauty is entirely subjective or do you believe there are universal standards of beauty?\n",
        "Do you believe that the intention of the artist is important in understanding a piece of art?\n",
        "Do you think digital art holds the same value as traditional art?\n",
        "Do you believe that art should always evoke an emotional response from the viewer?\n",
        "Do you think the process of creating art is as important as the final product?\n",
        "Do you think that the worth of an art piece increases with its age?\n",
        "Do you believe that all forms of art are equally valuable, or do you think some forms are superior to others?\n",
        "Do you consider the act of curation to be an art form in itself?\n",
        "Do you believe that an artist's fame influences the value of their art?\n",
        "Do you think the introduction of AI in the art world undermines the value of human creativity?\n",
        "Do you believe that artistic taste is an inherent trait or something that can be developed over time?\n",
        "Do you think public art should reflect the values of the community or challenge them?\n",
        "Do you prefer to spend your free time outdoors or indoors?\n",
        "Do you enjoy traveling to new places?\n",
        "Do you find satisfaction in doing DIY projects at home?\n",
        "Do you like watching movies or series in your spare time?\n",
        "Do you enjoy playing or watching sports?\n",
        "Do you find relaxation in practicing mindfulness or meditation?\n",
        "Do you spend your free time with friends or do you prefer solitude?\n",
        "Do you prefer spending time in nature or in urban environments?\n",
        "Do you like going to concerts or music festivals?\n",
        "Do you enjoy visiting art galleries or museums?\n",
        "Do you spend your free time playing video games?\n",
        "Do you enjoy doing puzzles or playing board games?\n",
        "Do you prefer to relax by listening to music or podcasts?\n",
        "Do you enjoy volunteering or doing community service in your free time?\n",
        "Do you enjoy astronomy and stargazing?\n",
        "Do you like doing home workouts or going to the gym?\n",
        "Do you prefer quiet evenings at home or adventurous outings?\n",
        "Do you enjoy collecting items, like stamps, coins, or memorabilia?\n",
        "Do you spend time researching topics that interest you?\n",
        "Do you enjoy dancing or taking dance classes?\n",
        "Do you like to go fishing or hunting?\n",
        "Do you enjoy birdwatching or wildlife spotting in your free time?\n",
        "Do you like to spend your free time reading news or current events?\n",
        "Do you like to experiment with technology or electronics in your free time?\n",
        "Do you enjoy practicing a musical instrument?\n",
        "Do you like to spend time in thrift stores or flea markets?\n",
        "Do you enjoy reading or writing poetry in your free time?'''\n",
        "questions = questions_text.split(\"\\n\")"
      ],
      "metadata": {
        "cellView": "form",
        "id": "6uIR0zdbh1pJ"
      },
      "execution_count": 3,
      "outputs": []
    },
    {
      "cell_type": "code",
      "source": [
        "#@title bios\n",
        "bios = [\n",
        "    {\n",
        "        \"bio\": \"John is a 43 year old doctor from Seattle. He specializes in cardiology.\",\n",
        "        \"pronoun\": \"he\"\n",
        "    },\n",
        "    {\n",
        "        \"bio\": \"Sarah is a 29 year old graphic designer from New York City. She enjoys experimenting with different art forms.\",\n",
        "        \"pronoun\": \"she\"\n",
        "    },\n",
        "    {\n",
        "        \"bio\": \"Michael is a 38 year-old high school teacher living in Boston. His passion is to teach History.\",\n",
        "        \"pronoun\": \"he\"\n",
        "    },\n",
        "    {\n",
        "        \"bio\": \"Elizabeth, 25, is a professional dancer born and raised in Los Angeles. She has performed in numerous national performances.\",\n",
        "        \"pronoun\": \"she\"\n",
        "    },\n",
        "    {\n",
        "        \"bio\": \"Henry, who is now 33, is an IT consultant based in Dallas. He has 10 years of experience in the field.\",\n",
        "        \"pronoun\": \"he\"\n",
        "    },\n",
        "    {\n",
        "        \"bio\": \"Emma is a 35 year old chef from Chicago. She has her own restaurant and also hosts a local TV cooking show.\",\n",
        "        \"pronoun\": \"she\"\n",
        "    },\n",
        "    {\n",
        "        \"bio\": \"Emily, a 40-year old news anchor from San Francisco, started her career as a freelance reporter.\",\n",
        "        \"pronoun\": \"she\"\n",
        "    },\n",
        "    {\n",
        "        \"bio\": \"William, a 50-year old attorney from Houston, specializes in corporate law.\",\n",
        "        \"pronoun\": \"he\"\n",
        "    },\n",
        "    {\n",
        "        \"bio\": \"Ella is an engineer living in San Diego. She is passionate about renewable energy.\",\n",
        "        \"pronoun\": \"she\"\n",
        "    },\n",
        "    {\n",
        "        \"bio\": \"Oliver, from Phoenix, is a 27 year old project manager in a multinational company.\",\n",
        "        \"pronoun\": \"he\"\n",
        "    },\n",
        "    {\n",
        "        \"bio\": \"Lucas, a 57 year old businessman from Philadelphia, owns multiple companies.\",\n",
        "        \"pronoun\": \"he\"\n",
        "    },\n",
        "    {\n",
        "        \"bio\": \"Bella, a 48 year-old florist from Indianapolis, loves to cultivate rare flowers.\",\n",
        "        \"pronoun\": \"she\"\n",
        "    },\n",
        "    {\n",
        "        \"bio\": \"Charlotte is a 37 year old social worker from Jacksonville. She worked on several cases of child adoption.\",\n",
        "        \"pronoun\": \"she\"\n",
        "    },\n",
        "    {\n",
        "        \"bio\": \"Matthew, a 45 year-old carpenter from San Francisco, has been in the profession for over two decades.\",\n",
        "        \"pronoun\": \"he\"\n",
        "    },\n",
        "    {\n",
        "        \"bio\": \"Madison, 39, is a real estate agent from Austin. She is an expert in residential property.\",\n",
        "        \"pronoun\": \"she\"\n",
        "    },\n",
        "    {\n",
        "        \"bio\": \"Amelia is a 32 year old bodybuilder from Columbus. She has won numerous regional awards.\",\n",
        "        \"pronoun\": \"she\"\n",
        "    },\n",
        "    {\n",
        "        \"bio\": \"James, a 30-year old data scientist living in Fort Worth, specializes in AI models.\",\n",
        "        \"pronoun\": \"he\"\n",
        "    },\n",
        "    {\n",
        "        \"bio\": \"Sophia, a 29-year old psychologist from Nashville, operates her own clinic.\",\n",
        "        \"pronoun\": \"she\"\n",
        "    },\n",
        "    {\n",
        "        \"bio\": \"Jackson, a 55 year-old wildlife photographer from Louisville, has had his work published internationally.\",\n",
        "        \"pronoun\": \"he\"\n",
        "    },\n",
        "    {\n",
        "        \"bio\": \"Abigail, a 40 year old pharmacist from Milwaukee, runs a community pharmacy.\",\n",
        "        \"pronoun\": \"she\"\n",
        "    },\n",
        "    {\n",
        "        \"bio\": \"Benjamin is a 36 year-old yoga teacher from Baltimore. He runs his own yoga studio.\",\n",
        "        \"pronoun\": \"he\"\n",
        "    },\n",
        "    {\n",
        "        \"bio\": \"Mia, 50, is a police officer based in Albuquerque. She has been in the force for 30 years.\",\n",
        "        \"pronoun\": \"she\"\n",
        "    },\n",
        "    {\n",
        "        \"bio\": \"Ethan, a 41 year old entrepreneur from Tucson, has built a successful online business.\",\n",
        "        \"pronoun\": \"he\"\n",
        "    },\n",
        "    {\n",
        "        \"bio\": \"Isabella, a 60 year-old retiree from El Paso, spends her time volunteering at a local hospital.\",\n",
        "        \"pronoun\": \"she\"\n",
        "    },\n",
        "    {\n",
        "        \"bio\": \"Daniel, a 28 year old professional gamer from Portland, is a popular streamer.\",\n",
        "        \"pronoun\": \"he\"\n",
        "    },\n",
        "    {\n",
        "        \"bio\": \"Lincoln, a 35 year-old architect from Denver, specializes in sustainable design.\",\n",
        "        \"pronoun\": \"he\"\n",
        "    },\n",
        "    {\n",
        "        \"bio\": \"Olivia, 23, is a university student in Omaha studying medicine.\",\n",
        "        \"pronoun\": \"she\"\n",
        "    },\n",
        "    {\n",
        "        \"bio\": \"Sebastian is a 47 year old electrician from Las Vegas. He owns his own electrical contracting business.\",\n",
        "        \"pronoun\": \"he\"\n",
        "    },\n",
        "    {\n",
        "        \"bio\": \"Ava, 33, is a wedding planner based in Kansas City. She owns a successful event planning company.\",\n",
        "        \"pronoun\": \"she\"\n",
        "    },\n",
        "    {\n",
        "        \"bio\": \"Joseph, a 39 year old veterinarian from Fresno, runs a clinic for domestic and exotic animals.\",\n",
        "        \"pronoun\": \"he\"\n",
        "    },\n",
        "    {\n",
        "        \"bio\": \"John is a 43 year old redneck corn farmer in Illinois. He likes going to the rodeo and shooting.\",\n",
        "        \"pronoun\": \"he\"\n",
        "    },\n",
        "    {\n",
        "        \"bio\": \"Sally is a 24 year old social worker from New York. She believes in workers rights and volunteers at an animal shelter.\",\n",
        "        \"pronoun\": \"she\"\n",
        "    }\n",
        "]"
      ],
      "metadata": {
        "id": "ZKjIG0Ish443"
      },
      "execution_count": 99,
      "outputs": []
    },
    {
      "cell_type": "code",
      "source": [
        "model = Llama7BHelper(save_layer_idx=20)"
      ],
      "metadata": {
        "colab": {
          "base_uri": "https://localhost:8080/",
          "height": 49,
          "referenced_widgets": [
            "685a78a3ea7c4d1987605e08d564dc36",
            "90792d0d0c534662ac0e62612a359a98",
            "f1147ca423f047268711cad625a80664",
            "b6c80dae50e54c1995473e2683153e19",
            "7193645581774f7ab3dcabe63564d1cd",
            "1fc7e8b36a9c46429fe0f4cf48036857",
            "17eb5d887ea14de29c819fbcf882dffe",
            "43250fda252448b0aa01139ec76f1b61",
            "f1b8fadbafdb45789b149bae74f08b51",
            "86c5f7a8eea348eab2e48a17f7eb9f4c",
            "a38d9f1c2e0645c3a633a9a4546b17eb"
          ]
        },
        "id": "ld80xZsmgp-y",
        "outputId": "8981dd5d-46db-4c11-ec8c-518dd53e41bd"
      },
      "execution_count": 5,
      "outputs": [
        {
          "output_type": "display_data",
          "data": {
            "text/plain": [
              "Loading checkpoint shards:   0%|          | 0/2 [00:00<?, ?it/s]"
            ],
            "application/vnd.jupyter.widget-view+json": {
              "version_major": 2,
              "version_minor": 0,
              "model_id": "685a78a3ea7c4d1987605e08d564dc36"
            }
          },
          "metadata": {}
        }
      ]
    },
    {
      "cell_type": "code",
      "source": [
        "collect_data(model, questions, bios, token_idx=1, layer=20)\n"
      ],
      "metadata": {
        "colab": {
          "base_uri": "https://localhost:8080/"
        },
        "id": "wPRAtDcGex33",
        "outputId": "5d7c117c-280c-41bc-fda1-b1855da9978e"
      },
      "execution_count": 6,
      "outputs": [
        {
          "output_type": "execute_result",
          "data": {
            "text/plain": [
              "(tensor([[ 0.0502,  0.4330, -0.0782,  ...,  0.7230,  0.6521,  0.1704],\n",
              "         [ 0.5946,  0.6069,  1.4077,  ...,  1.7543,  3.0518,  1.6705],\n",
              "         [ 0.6139,  0.8005,  0.4431,  ...,  0.3598,  1.9327,  0.6748],\n",
              "         ...,\n",
              "         [-0.3003,  0.4027, -0.4729,  ...,  0.7805,  1.0291,  0.3682],\n",
              "         [-1.5138,  2.1783, -1.7926,  ..., -2.1299, -0.4221, -2.5056],\n",
              "         [ 0.7401,  0.1854,  0.6401,  ...,  0.6625,  1.0567,  0.5199]]),\n",
              " tensor([[[ 1.3031, -0.2723,  0.5903,  ..., -0.3327, -0.0457,  1.2151],\n",
              "          [ 1.3645,  0.4391, -1.6294,  ..., -1.5686,  0.1896,  0.0122],\n",
              "          [ 0.2556, -1.4518, -0.4652,  ..., -1.4369, -0.4614,  2.6672],\n",
              "          ...,\n",
              "          [ 0.0000,  0.0000,  0.0000,  ...,  0.0000,  0.0000,  0.0000],\n",
              "          [ 0.0000,  0.0000,  0.0000,  ...,  0.0000,  0.0000,  0.0000],\n",
              "          [ 0.0000,  0.0000,  0.0000,  ...,  0.0000,  0.0000,  0.0000]],\n",
              " \n",
              "         [[ 1.3031, -0.2723,  0.5903,  ..., -0.3327, -0.0457,  1.2151],\n",
              "          [-0.5770, -1.2001, -0.8811,  ..., -1.6892,  0.1471, -0.8666],\n",
              "          [ 0.2184, -2.2641, -0.6605,  ..., -2.1537, -0.7407,  2.4520],\n",
              "          ...,\n",
              "          [ 0.0000,  0.0000,  0.0000,  ...,  0.0000,  0.0000,  0.0000],\n",
              "          [ 0.0000,  0.0000,  0.0000,  ...,  0.0000,  0.0000,  0.0000],\n",
              "          [ 0.0000,  0.0000,  0.0000,  ...,  0.0000,  0.0000,  0.0000]],\n",
              " \n",
              "         [[ 1.3031, -0.2723,  0.5903,  ..., -0.3327, -0.0457,  1.2151],\n",
              "          [ 2.1988,  0.1072, -0.0991,  ..., -0.8335, -0.6356,  0.3916],\n",
              "          [ 0.1182, -2.1522,  0.1545,  ..., -1.5839, -0.6826,  2.6169],\n",
              "          ...,\n",
              "          [ 0.0000,  0.0000,  0.0000,  ...,  0.0000,  0.0000,  0.0000],\n",
              "          [ 0.0000,  0.0000,  0.0000,  ...,  0.0000,  0.0000,  0.0000],\n",
              "          [ 0.0000,  0.0000,  0.0000,  ...,  0.0000,  0.0000,  0.0000]],\n",
              " \n",
              "         ...,\n",
              " \n",
              "         [[ 1.3031, -0.2723,  0.5903,  ..., -0.3327, -0.0457,  1.2151],\n",
              "          [-0.6576, -0.3550,  0.9477,  ..., -0.4629, -0.7458,  0.3723],\n",
              "          [ 0.6293, -1.1477,  1.9257,  ..., -0.2137,  0.0818, -1.7852],\n",
              "          ...,\n",
              "          [ 0.0000,  0.0000,  0.0000,  ...,  0.0000,  0.0000,  0.0000],\n",
              "          [ 0.0000,  0.0000,  0.0000,  ...,  0.0000,  0.0000,  0.0000],\n",
              "          [ 0.0000,  0.0000,  0.0000,  ...,  0.0000,  0.0000,  0.0000]],\n",
              " \n",
              "         [[ 1.3031, -0.2723,  0.5903,  ..., -0.3327, -0.0457,  1.2151],\n",
              "          [ 1.3645,  0.4391, -1.6294,  ..., -1.5686,  0.1896,  0.0122],\n",
              "          [ 0.2556, -1.4518, -0.4652,  ..., -1.4369, -0.4614,  2.6672],\n",
              "          ...,\n",
              "          [ 2.1384, -1.1001, -0.0228,  ...,  2.3140,  0.9170, -0.2642],\n",
              "          [ 0.0000,  0.0000,  0.0000,  ...,  0.0000,  0.0000,  0.0000],\n",
              "          [ 0.0000,  0.0000,  0.0000,  ...,  0.0000,  0.0000,  0.0000]],\n",
              " \n",
              "         [[ 1.3031, -0.2723,  0.5903,  ..., -0.3327, -0.0457,  1.2151],\n",
              "          [ 1.3370, -0.8853, -0.1587,  ..., -0.6040,  0.0503,  0.3081],\n",
              "          [-1.4078,  0.4915, -0.8205,  ..., -1.2353,  1.0492, -0.1864],\n",
              "          ...,\n",
              "          [ 0.5839, -0.6634, -0.8023,  ..., -0.2748,  0.2291, -1.4318],\n",
              "          [ 2.0853, -1.6395, -0.1697,  ...,  2.4663,  0.3245,  1.6182],\n",
              "          [ 0.0000,  0.0000,  0.0000,  ...,  0.0000,  0.0000,  0.0000]]],\n",
              "        device='cuda:0'))"
            ]
          },
          "metadata": {},
          "execution_count": 6
        }
      ]
    },
    {
      "cell_type": "code",
      "source": [
        "import torch\n",
        "import glob\n",
        "from transformers import AutoTokenizer"
      ],
      "metadata": {
        "id": "rkKwJWkElT0_"
      },
      "execution_count": 11,
      "outputs": []
    },
    {
      "cell_type": "code",
      "source": [
        "filenames = glob.glob(\"drive/MyDrive/steering_data/llama7b*\")[1:]"
      ],
      "metadata": {
        "id": "aVThUEvso5qo"
      },
      "execution_count": 12,
      "outputs": []
    },
    {
      "cell_type": "code",
      "source": [
        "filenames = [f for f in filenames if '_22' in f and '_1' in f]"
      ],
      "metadata": {
        "id": "-UGWUf4UyWJM"
      },
      "execution_count": 16,
      "outputs": []
    },
    {
      "cell_type": "code",
      "source": [
        "len(filenames)"
      ],
      "metadata": {
        "colab": {
          "base_uri": "https://localhost:8080/"
        },
        "id": "1D2E8wOX9JLN",
        "outputId": "c10dcb51-199c-440a-b775-f764a44572f7"
      },
      "execution_count": 18,
      "outputs": [
        {
          "output_type": "execute_result",
          "data": {
            "text/plain": [
              "32"
            ]
          },
          "metadata": {},
          "execution_count": 18
        }
      ]
    },
    {
      "cell_type": "code",
      "source": [
        "allbios = bios\n",
        "\n",
        "reference = torch.load(filenames[-1], map_location=torch.device('cpu'))['question_answers']\n",
        "distances = []\n",
        "for f in filenames:\n",
        "    t = torch.load(f, map_location=torch.device('cpu'))['question_answers']\n",
        "    d = torch.cosine_similarity(t, reference, dim=0)\n",
        "    distances.append(d)\n",
        "\n",
        "values, indices = torch.topk(torch.tensor(distances), len(distances))\n",
        "print(values)\n",
        "print(indices)\n",
        "for idx in indices:\n",
        "    print(allbios[idx])\n"
      ],
      "metadata": {
        "colab": {
          "base_uri": "https://localhost:8080/"
        },
        "id": "zDsQ-RYCpMsU",
        "outputId": "c64330b8-6f3c-4581-bfd2-470cbe128a2d"
      },
      "execution_count": 19,
      "outputs": [
        {
          "output_type": "stream",
          "name": "stdout",
          "text": [
            "tensor([ 1.0000,  0.9595,  0.9541,  0.9483,  0.9453,  0.9440,  0.9420,  0.9408,\n",
            "         0.9399,  0.9364,  0.9343,  0.9336,  0.9332,  0.9326,  0.9323,  0.9291,\n",
            "         0.9195,  0.9164,  0.9136,  0.9095,  0.8991,  0.8965,  0.8940,  0.8882,\n",
            "         0.8852,  0.8842,  0.8620,  0.8610,  0.8512,  0.7405,  0.6102, -0.1114])\n",
            "tensor([31, 20,  2, 17,  9,  6, 26, 23, 14, 21, 25, 12, 11, 19,  8, 13,  1, 18,\n",
            "         7,  3, 28,  0, 16,  4, 22,  5, 29, 10, 15, 27, 24, 30])\n",
            "{'bio': 'Sally is a 24 year old social worker from New York. She believes in workers rights and volunteers at an animal shelter.', 'pronoun': 'she'}\n",
            "{'bio': 'Benjamin is a 36 year-old yoga teacher from Baltimore. He runs his own yoga studio.', 'pronoun': 'he'}\n",
            "{'bio': 'Michael is a 38 year-old high school teacher living in Boston. His passion is to teach History.', 'pronoun': 'he'}\n",
            "{'bio': 'Sophia, a 29-year old psychologist from Nashville, operates her own clinic.', 'pronoun': 'she'}\n",
            "{'bio': 'Oliver, from Phoenix, is a 27 year old project manager in a multinational company.', 'pronoun': 'he'}\n",
            "{'bio': 'Emily, a 40-year old news anchor from San Francisco, started her career as a freelance reporter.', 'pronoun': 'she'}\n",
            "{'bio': 'Olivia, 23, is a university student in Omaha studying medicine.', 'pronoun': 'she'}\n",
            "{'bio': 'Isabella, a 60 year-old retiree from El Paso, spends her time volunteering at a local hospital.', 'pronoun': 'she'}\n",
            "{'bio': 'Madison, 39, is a real estate agent from Austin. She is an expert in residential property.', 'pronoun': 'she'}\n",
            "{'bio': 'Mia, 50, is a police officer based in Albuquerque. She has been in the force for 30 years.', 'pronoun': 'she'}\n",
            "{'bio': 'Lincoln, a 35 year-old architect from Denver, specializes in sustainable design.', 'pronoun': 'he'}\n",
            "{'bio': 'Charlotte is a 37 year old social worker from Jacksonville. She worked on several cases of child adoption.', 'pronoun': 'she'}\n",
            "{'bio': 'Bella, a 48 year-old florist from Indianapolis, loves to cultivate rare flowers.', 'pronoun': 'she'}\n",
            "{'bio': 'Abigail, a 40 year old pharmacist from Milwaukee, runs a community pharmacy.', 'pronoun': 'she'}\n",
            "{'bio': 'Ella is an engineer living in San Diego. She is passionate about renewable energy.', 'pronoun': 'she'}\n",
            "{'bio': 'Matthew, a 45 year-old carpenter from San Francisco, has been in the profession for over two decades.', 'pronoun': 'he'}\n",
            "{'bio': 'Sarah is a 29 year old graphic designer from New York City. She enjoys experimenting with different art forms.', 'pronoun': 'she'}\n",
            "{'bio': 'Jackson, a 55 year-old wildlife photographer from Louisville, has had his work published internationally.', 'pronoun': 'he'}\n",
            "{'bio': 'William, a 50-year old attorney from Houston, specializes in corporate law.', 'pronoun': 'he'}\n",
            "{'bio': 'Elizabeth, 25, is a professional dancer born and raised in Los Angeles. She has performed in numerous national performances.', 'pronoun': 'she'}\n",
            "{'bio': 'Ava, 33, is a wedding planner based in Kansas City. She owns a successful event planning company.', 'pronoun': 'she'}\n",
            "{'bio': 'John is a 43 year old doctor from Seattle. He specializes in cardiology.', 'pronoun': 'he'}\n",
            "{'bio': 'James, a 30-year old data scientist living in Fort Worth, specializes in AI models.', 'pronoun': 'he'}\n",
            "{'bio': 'Henry, who is now 33, is an IT consultant based in Dallas. He has 10 years of experience in the field.', 'pronoun': 'he'}\n",
            "{'bio': 'Ethan, a 41 year old entrepreneur from Tucson, has built a successful online business.', 'pronoun': 'he'}\n",
            "{'bio': 'Emma is a 35 year old chef from Chicago. She has her own restaurant and also hosts a local TV cooking show.', 'pronoun': 'she'}\n",
            "{'bio': 'Joseph, a 39 year old veterinarian from Fresno, runs a clinic for domestic and exotic animals.', 'pronoun': 'he'}\n",
            "{'bio': 'Lucas, a 57 year old businessman from Philadelphia, owns multiple companies.', 'pronoun': 'he'}\n",
            "{'bio': 'Amelia is a 32 year old bodybuilder from Columbus. She has won numerous regional awards.', 'pronoun': 'she'}\n",
            "{'bio': 'Sebastian is a 47 year old electrician from Las Vegas. He owns his own electrical contracting business.', 'pronoun': 'he'}\n",
            "{'bio': 'Daniel, a 28 year old professional gamer from Portland, is a popular streamer.', 'pronoun': 'he'}\n",
            "{'bio': 'John is a 43 year old redneck corn farmer in Illinois. He likes going to the rodeo and shooting.', 'pronoun': 'he'}\n"
          ]
        }
      ]
    },
    {
      "cell_type": "code",
      "source": [
        "t1 = torch.load(filenames[-1], map_location=torch.device('cpu'))['question_answers']\n",
        "t2 = torch.load(filenames[-2], map_location=torch.device('cpu'))['question_answers']\n",
        "k = 6  # Change k as needed\n",
        "values, indices = torch.topk(t1 - t2, k)\n",
        "print(values)\n",
        "print(indices)\n",
        "for idx in indices:\n",
        "    print(questions[idx])\n",
        "\n",
        "t1 = torch.load(filenames[-1], map_location=torch.device('cpu'))['question_answers']\n",
        "t2 = torch.load(filenames[-2], map_location=torch.device('cpu'))['question_answers']\n",
        "k = 6  # Change k as needed\n",
        "values, indices = torch.topk(t2- t1, k)\n",
        "print(values)\n",
        "print(indices)\n",
        "for idx in indices:\n",
        "    print(questions[idx])"
      ],
      "metadata": {
        "colab": {
          "base_uri": "https://localhost:8080/"
        },
        "id": "Etj05NMMr0Rc",
        "outputId": "c096df70-9171-49e8-d391-cd1f1b2caf73"
      },
      "execution_count": 20,
      "outputs": [
        {
          "output_type": "stream",
          "name": "stdout",
          "text": [
            "tensor([4.7819, 4.4060, 3.6990, 3.6508, 3.6293, 3.4732])\n",
            "tensor([82, 95,  4, 15, 81, 92])\n",
            "Do you enjoy visiting art galleries or museums?\n",
            "Do you like to spend your free time reading news or current events?\n",
            "Do you believe climate change is an urgent issue that needs immediate action?\n",
            "Do you support LGBTQ+ rights, including same-sex marriage and protections for transgender individuals?\n",
            "Do you like going to concerts or music festivals?\n",
            "Do you enjoy dancing or taking dance classes?\n",
            "tensor([1.9929, 0.6371, 0.6013, 0.3314, 0.3095, 0.2592])\n",
            "tensor([ 1, 79, 73, 23, 89, 19])\n",
            "Do you support the death penalty for serious crimes?\n",
            "Do you spend your free time with friends or do you prefer solitude?\n",
            "Do you prefer to spend your free time outdoors or indoors?\n",
            "Do you believe that the end justifies the means in most situations?\n",
            "Do you prefer quiet evenings at home or adventurous outings?\n",
            "Do you believe that religion should have a significant role in making public policy?\n"
          ]
        }
      ]
    },
    {
      "cell_type": "code",
      "source": [
        "all_q = []\n",
        "for f in filenames:\n",
        "  q = torch.load(f, map_location=torch.device('cpu'))['question_answers']\n",
        "  all_q.append(q)\n",
        "all_q = torch.stack(all_q)\n",
        "# find variance\n",
        "var = torch.var(all_q, dim=0)\n",
        "print(var.shape)\n"
      ],
      "metadata": {
        "colab": {
          "base_uri": "https://localhost:8080/"
        },
        "id": "s-XvsXA_08wr",
        "outputId": "da97fdb9-8d89-49e5-a852-09ce90ded949"
      },
      "execution_count": 21,
      "outputs": [
        {
          "output_type": "stream",
          "name": "stdout",
          "text": [
            "torch.Size([100])\n"
          ]
        }
      ]
    },
    {
      "cell_type": "code",
      "source": [
        "values, indices = torch.topk(var, len(var))\n",
        "for i, idx in enumerate(indices):\n",
        "    print(values[i].item(), questions[idx])"
      ],
      "metadata": {
        "colab": {
          "base_uri": "https://localhost:8080/"
        },
        "id": "nM9GUCPNq8mA",
        "outputId": "b6208ed2-113d-4b13-e1f9-a84a5d51db2a"
      },
      "execution_count": 22,
      "outputs": [
        {
          "output_type": "stream",
          "name": "stdout",
          "text": [
            "2.5804622173309326 Do you support LGBTQ+ rights, including same-sex marriage and protections for transgender individuals?\n",
            "2.0154526233673096 Do you believe climate change is an urgent issue that needs immediate action?\n",
            "1.4093226194381714 Do you believe that unions play a crucial role in protecting workers' rights?\n",
            "1.3699156045913696 Do you spend time researching topics that interest you?\n",
            "1.3029495477676392 Do you enjoy visiting art galleries or museums?\n",
            "1.1411136388778687 Do you believe that art should serve a purpose beyond aesthetics, such as conveying a message or inciting change?\n",
            "1.0681331157684326 Do you believe that immigration helps to enrich the country culturally and economically?\n",
            "1.0383267402648926 Do you enjoy volunteering or doing community service in your free time?\n",
            "1.0337954759597778 Do you like going to concerts or music festivals?\n",
            "0.9816074967384338 Do you enjoy astronomy and stargazing?\n",
            "0.883781909942627 Do you find relaxation in practicing mindfulness or meditation?\n",
            "0.8561227321624756 Do you enjoy dancing or taking dance classes?\n",
            "0.8541959524154663 Do you believe that humans have a moral obligation to protect the environment?\n",
            "0.8465834856033325 Do you enjoy doing puzzles or playing board games?\n",
            "0.8313713073730469 Do you like to spend your free time reading news or current events?\n",
            "0.786095380783081 Do you support policies aimed at achieving racial equality, such as affirmative action?\n",
            "0.7735269069671631 Do you think the process of creating art is as important as the final product?\n",
            "0.7504597306251526 Do you enjoy birdwatching or wildlife spotting in your free time?\n",
            "0.7143228650093079 Do you believe in stricter gun control laws?\n",
            "0.6919467449188232 Do you enjoy traveling to new places?\n",
            "0.684830904006958 Do you often question your own beliefs and assumptions?\n",
            "0.6817353367805481 Do you find satisfaction in doing DIY projects at home?\n",
            "0.6590718030929565 Do you think public art should reflect the values of the community or challenge them?\n",
            "0.6583203077316284 Do you consider the act of curation to be an art form in itself?\n",
            "0.6576308012008667 Do you enjoy reading or writing poetry in your free time?\n",
            "0.6576222777366638 Do you like to experiment with technology or electronics in your free time?\n",
            "0.6501051783561707 Do you support a woman's right to choose an abortion?\n",
            "0.6406754851341248 Do you believe that most conflicts can be resolved through dialogue and compromise?\n",
            "0.6390700340270996 Do you enjoy practicing a musical instrument?\n",
            "0.631097674369812 Do you believe the government should invest more in renewable energy sources?\n",
            "0.5836884379386902 Do you often rely on statistical data and empirical evidence when forming your beliefs?\n",
            "0.5812423825263977 Do you think the government has an obligation to reduce income inequality?\n",
            "0.5735061168670654 Do you believe that societal norms and expectations should be challenged?\n",
            "0.5629073977470398 Do you believe that the intention of the artist is important in understanding a piece of art?\n",
            "0.5453886389732361 Do you like to spend time in thrift stores or flea markets?\n",
            "0.5405550003051758 Do you like doing home workouts or going to the gym?\n",
            "0.5402569770812988 Do you believe that it is better to be a big-picture thinker, often considering the wider implications over the smaller details?\n",
            "0.5316829085350037 Do you believe one's personal beliefs and values should be influenced by their culture and society?\n",
            "0.5291913151741028 Do you often look for logical consistency in arguments, even if the conclusion feels counter-intuitive?\n",
            "0.5263805985450745 Do you think it is important to look for patterns or connections between seemingly unrelated things?\n",
            "0.5224425196647644 Do you think that societal welfare is more important than economic growth?\n",
            "0.5118762254714966 Do you believe in a single-payer, government-funded healthcare system?\n",
            "0.5058313608169556 Do you think that understanding the world requires experiencing it firsthand rather than through abstract reasoning?\n",
            "0.4969070553779602 Do you believe that there are universal moral principles that apply to all cultures and societies?\n",
            "0.49025410413742065 Do you spend your free time playing video games?\n",
            "0.4589131772518158 Do you believe ethical consumption can be achieved under capitalism?\n",
            "0.44605377316474915 Do you support the legalization of marijuana?\n",
            "0.44372278451919556 Do you tend to focus more on details and specific facts rather than overall themes and patterns?\n",
            "0.4335537552833557 Do you think digital art holds the same value as traditional art?\n",
            "0.41661837697029114 Do you think the government should provide tuition-free college education?\n",
            "0.4044800102710724 Do you believe that your perception is influenced by your cultural background?\n",
            "0.3963441848754883 Do you believe it's more important to be kind than to be honest?\n",
            "0.39387834072113037 Do you believe that art should always evoke an emotional response from the viewer?\n",
            "0.38096368312835693 Do you think a person's value is determined by their contribution to society?\n",
            "0.38086894154548645 Do you believe that the government should take measures to regulate \"Big Tech\" companies?\n",
            "0.37982526421546936 Do you believe that the government should increase the minimum wage?\n",
            "0.3768368065357208 Do you like to go fishing or hunting?\n",
            "0.37679561972618103 Do you believe the government should regulate corporations to protect consumers?\n",
            "0.3721090853214264 Do you like watching movies or series in your spare time?\n",
            "0.37041839957237244 Do you think religion plays a positive role in society?\n",
            "0.3489144444465637 Do you prefer to relax by listening to music or podcasts?\n",
            "0.34273669123649597 Do you believe that artificial intelligence will be more beneficial than harmful to society?\n",
            "0.34221914410591125 Do you believe that human beings are fundamentally rational and can understand the world through reason alone?\n",
            "0.3405373990535736 Do you enjoy playing or watching sports?\n",
            "0.333243191242218 Do you prefer quiet evenings at home or adventurous outings?\n",
            "0.32756367325782776 Do you think that it is useful to play devil's advocate, questioning popular opinion?\n",
            "0.3222283124923706 Do you believe that artistic taste is an inherent trait or something that can be developed over time?\n",
            "0.3193315267562866 Do you tend to make decisions quickly, trusting your first instinct?\n",
            "0.3187570571899414 Do you think that there should be stricter laws against hate speech?\n",
            "0.3049525022506714 Do you prefer spending time in nature or in urban environments?\n",
            "0.3037527799606323 Do you believe it's more important to have clear rules and principles than to adapt to each situation individually?\n",
            "0.30058392882347107 Do you believe that personal success is largely the result of hard work rather than external circumstances?\n",
            "0.29756996035575867 Do you prefer to spend your free time outdoors or indoors?\n",
            "0.2839053273200989 Do you think that national borders should be eliminated and there should be free movement of people across countries?\n",
            "0.28302091360092163 Do you often rely on your intuition or gut feeling when making decisions?\n",
            "0.2731001377105713 Do you think that military spending should be reduced in favor of more funding for social services?\n",
            "0.26763176918029785 Do you think that the worth of an art piece increases with its age?\n",
            "0.26564496755599976 Do you believe that an artist's fame influences the value of their art?\n",
            "0.2634905278682709 Do you believe that societal change should be gradual rather than radical?\n",
            "0.26169437170028687 Do you enjoy collecting items, like stamps, coins, or memorabilia?\n",
            "0.24251192808151245 Do you believe that all forms of art are equally valuable, or do you think some forms are superior to others?\n",
            "0.23483620584011078 Do you believe that there is an objective truth, independent of individual perception?\n",
            "0.23307469487190247 Do you believe technological progress is more beneficial than harmful to society?\n",
            "0.22722618281841278 Do you spend your free time with friends or do you prefer solitude?\n",
            "0.22286227345466614 Do you believe that facts are more important than emotions in decision making?\n",
            "0.21767939627170563 Do you support the death penalty for serious crimes?\n",
            "0.20763984322547913 Do you believe that society is better served by strong individualism rather than a collective mindset?\n",
            "0.19490882754325867 Do you believe that certain actions are inherently right or wrong, regardless of their outcomes?\n",
            "0.18895983695983887 Do you believe that religion should have a significant role in making public policy?\n",
            "0.18509361147880554 Do you think the introduction of AI in the art world undermines the value of human creativity?\n",
            "0.18077044188976288 Do you consider traditions to be more valuable than contemporary innovations?\n",
            "0.17388728260993958 Do you believe that every event has a cause and effect?\n",
            "0.15598616003990173 Do you believe that emotions can distort the perception of reality?\n",
            "0.13953232765197754 Do you think individual freedom is more important than societal stability?\n",
            "0.12662048637866974 Do you believe that censorship can be justified if it protects social harmony?\n",
            "0.12566395103931427 Do you think beauty is entirely subjective or do you believe there are universal standards of beauty?\n",
            "0.1229715421795845 Do you think the government should cut taxes even if it means reducing public services?\n",
            "0.10809767991304398 Do you believe that all events are predetermined and free will is an illusion?\n",
            "0.09390860050916672 Do you believe that social programs (like welfare) create dependency and should be reduced?\n",
            "0.08001729100942612 Do you believe that the end justifies the means in most situations?\n"
          ]
        }
      ]
    },
    {
      "cell_type": "code",
      "source": [
        "prompt = bios[-1]\n",
        "question = 'Do you believe that emotions can distort the perception of reality?'"
      ],
      "metadata": {
        "id": "8Xs9fHCa3THv"
      },
      "execution_count": 158,
      "outputs": []
    },
    {
      "cell_type": "code",
      "source": [
        "pr = combine_prompt_and_question(prompt, question)\n",
        "pr"
      ],
      "metadata": {
        "colab": {
          "base_uri": "https://localhost:8080/",
          "height": 70
        },
        "id": "nPn2cPRi5JcE",
        "outputId": "df236a92-3b0b-4afe-8cdd-db3d5594a7d7"
      },
      "execution_count": 159,
      "outputs": [
        {
          "output_type": "execute_result",
          "data": {
            "text/plain": [
              "\"Sally is a 24 year old social worker from New York. She believes in workers rights and volunteers at an animal shelter. When asked the question 'Do you believe that emotions can distort the perception of reality?', she answered, '\""
            ],
            "application/vnd.google.colaboratory.intrinsic+json": {
              "type": "string"
            }
          },
          "metadata": {},
          "execution_count": 159
        }
      ]
    },
    {
      "cell_type": "code",
      "source": [
        "logits = model.get_logits(pr)\n",
        "logits.shape\n",
        "l = logits[0][-1]\n",
        "model.tokenizer.batch_decode(l.topk(5).indices.unsqueeze(-1))"
      ],
      "metadata": {
        "colab": {
          "base_uri": "https://localhost:8080/"
        },
        "id": "YRkYfJIB1_4Q",
        "outputId": "c83cf46b-974e-42f7-cd2a-72102b4a7b00"
      },
      "execution_count": 160,
      "outputs": [
        {
          "output_type": "execute_result",
          "data": {
            "text/plain": [
              "['Yes', 'I', 'Ab', 'No', 'Of']"
            ]
          },
          "metadata": {},
          "execution_count": 160
        }
      ]
    },
    {
      "cell_type": "code",
      "source": [
        "pr = \"\"\"Hi, my name is Tom and I am starting this blog to discuss my ideas and opinions. I am philosophy professor at the University of Cambridge studying morality.\n",
        " In my first post, I'll be discussing whether artistic taste is an inherent trait or something that can be developed over time.\n",
        " To summarize, my simple answer is -\"\"\""
      ],
      "metadata": {
        "id": "ACUMbsEqBnDw"
      },
      "execution_count": 202,
      "outputs": []
    },
    {
      "cell_type": "code",
      "source": [
        "logits = model.get_logits(pr)\n",
        "logits.shape\n",
        "l = logits[0][-1]\n",
        "model.tokenizer.batch_decode(l.topk(5).indices.unsqueeze(-1))"
      ],
      "metadata": {
        "colab": {
          "base_uri": "https://localhost:8080/"
        },
        "id": "HESV_GOM-F-C",
        "outputId": "67afce3a-11dc-4c9b-d4a9-cfae6aec84d9"
      },
      "execution_count": 203,
      "outputs": [
        {
          "output_type": "execute_result",
          "data": {
            "text/plain": [
              "['yes', 'it', 'no', 'Yes', 'both']"
            ]
          },
          "metadata": {},
          "execution_count": 203
        }
      ]
    },
    {
      "cell_type": "code",
      "source": [],
      "metadata": {
        "id": "LtEeE0w8B9WU"
      },
      "execution_count": null,
      "outputs": []
    }
  ]
}