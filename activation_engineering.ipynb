{
  "nbformat": 4,
  "nbformat_minor": 0,
  "metadata": {
    "colab": {
      "provenance": [],
      "machine_shape": "hm",
      "gpuType": "A100",
      "include_colab_link": true
    },
    "kernelspec": {
      "name": "python3",
      "display_name": "Python 3"
    },
    "language_info": {
      "name": "python"
    },
    "accelerator": "GPU",
    "widgets": {
      "application/vnd.jupyter.widget-state+json": {
        "93ba82e5359b46e194950f68006a2496": {
          "model_module": "@jupyter-widgets/controls",
          "model_name": "HBoxModel",
          "model_module_version": "1.5.0",
          "state": {
            "_dom_classes": [],
            "_model_module": "@jupyter-widgets/controls",
            "_model_module_version": "1.5.0",
            "_model_name": "HBoxModel",
            "_view_count": null,
            "_view_module": "@jupyter-widgets/controls",
            "_view_module_version": "1.5.0",
            "_view_name": "HBoxView",
            "box_style": "",
            "children": [
              "IPY_MODEL_c7be9aca0aa7450399f65056433dfc75",
              "IPY_MODEL_603f35b5ded4498abf02fedd32e28d3f",
              "IPY_MODEL_17fe0948797149b1b20feef71257bfeb"
            ],
            "layout": "IPY_MODEL_862b1bce637a456fa098db1cd3ce8c87"
          }
        },
        "c7be9aca0aa7450399f65056433dfc75": {
          "model_module": "@jupyter-widgets/controls",
          "model_name": "HTMLModel",
          "model_module_version": "1.5.0",
          "state": {
            "_dom_classes": [],
            "_model_module": "@jupyter-widgets/controls",
            "_model_module_version": "1.5.0",
            "_model_name": "HTMLModel",
            "_view_count": null,
            "_view_module": "@jupyter-widgets/controls",
            "_view_module_version": "1.5.0",
            "_view_name": "HTMLView",
            "description": "",
            "description_tooltip": null,
            "layout": "IPY_MODEL_7b4dfb3dd2334538b9dc15ef5af5407a",
            "placeholder": "​",
            "style": "IPY_MODEL_9746646535124ee0bf8a5ef83f7f593e",
            "value": "Loading checkpoint shards: 100%"
          }
        },
        "603f35b5ded4498abf02fedd32e28d3f": {
          "model_module": "@jupyter-widgets/controls",
          "model_name": "FloatProgressModel",
          "model_module_version": "1.5.0",
          "state": {
            "_dom_classes": [],
            "_model_module": "@jupyter-widgets/controls",
            "_model_module_version": "1.5.0",
            "_model_name": "FloatProgressModel",
            "_view_count": null,
            "_view_module": "@jupyter-widgets/controls",
            "_view_module_version": "1.5.0",
            "_view_name": "ProgressView",
            "bar_style": "success",
            "description": "",
            "description_tooltip": null,
            "layout": "IPY_MODEL_376490699be84090a7bbcb08fcb1c774",
            "max": 2,
            "min": 0,
            "orientation": "horizontal",
            "style": "IPY_MODEL_3312a9808f764362b036b55659bbfce9",
            "value": 2
          }
        },
        "17fe0948797149b1b20feef71257bfeb": {
          "model_module": "@jupyter-widgets/controls",
          "model_name": "HTMLModel",
          "model_module_version": "1.5.0",
          "state": {
            "_dom_classes": [],
            "_model_module": "@jupyter-widgets/controls",
            "_model_module_version": "1.5.0",
            "_model_name": "HTMLModel",
            "_view_count": null,
            "_view_module": "@jupyter-widgets/controls",
            "_view_module_version": "1.5.0",
            "_view_name": "HTMLView",
            "description": "",
            "description_tooltip": null,
            "layout": "IPY_MODEL_ea6d1c79ead14824a79d67258dc39fc4",
            "placeholder": "​",
            "style": "IPY_MODEL_232bdc1a257f4161a4e8a1e301c245a0",
            "value": " 2/2 [00:01&lt;00:00,  1.13it/s]"
          }
        },
        "862b1bce637a456fa098db1cd3ce8c87": {
          "model_module": "@jupyter-widgets/base",
          "model_name": "LayoutModel",
          "model_module_version": "1.2.0",
          "state": {
            "_model_module": "@jupyter-widgets/base",
            "_model_module_version": "1.2.0",
            "_model_name": "LayoutModel",
            "_view_count": null,
            "_view_module": "@jupyter-widgets/base",
            "_view_module_version": "1.2.0",
            "_view_name": "LayoutView",
            "align_content": null,
            "align_items": null,
            "align_self": null,
            "border": null,
            "bottom": null,
            "display": null,
            "flex": null,
            "flex_flow": null,
            "grid_area": null,
            "grid_auto_columns": null,
            "grid_auto_flow": null,
            "grid_auto_rows": null,
            "grid_column": null,
            "grid_gap": null,
            "grid_row": null,
            "grid_template_areas": null,
            "grid_template_columns": null,
            "grid_template_rows": null,
            "height": null,
            "justify_content": null,
            "justify_items": null,
            "left": null,
            "margin": null,
            "max_height": null,
            "max_width": null,
            "min_height": null,
            "min_width": null,
            "object_fit": null,
            "object_position": null,
            "order": null,
            "overflow": null,
            "overflow_x": null,
            "overflow_y": null,
            "padding": null,
            "right": null,
            "top": null,
            "visibility": null,
            "width": null
          }
        },
        "7b4dfb3dd2334538b9dc15ef5af5407a": {
          "model_module": "@jupyter-widgets/base",
          "model_name": "LayoutModel",
          "model_module_version": "1.2.0",
          "state": {
            "_model_module": "@jupyter-widgets/base",
            "_model_module_version": "1.2.0",
            "_model_name": "LayoutModel",
            "_view_count": null,
            "_view_module": "@jupyter-widgets/base",
            "_view_module_version": "1.2.0",
            "_view_name": "LayoutView",
            "align_content": null,
            "align_items": null,
            "align_self": null,
            "border": null,
            "bottom": null,
            "display": null,
            "flex": null,
            "flex_flow": null,
            "grid_area": null,
            "grid_auto_columns": null,
            "grid_auto_flow": null,
            "grid_auto_rows": null,
            "grid_column": null,
            "grid_gap": null,
            "grid_row": null,
            "grid_template_areas": null,
            "grid_template_columns": null,
            "grid_template_rows": null,
            "height": null,
            "justify_content": null,
            "justify_items": null,
            "left": null,
            "margin": null,
            "max_height": null,
            "max_width": null,
            "min_height": null,
            "min_width": null,
            "object_fit": null,
            "object_position": null,
            "order": null,
            "overflow": null,
            "overflow_x": null,
            "overflow_y": null,
            "padding": null,
            "right": null,
            "top": null,
            "visibility": null,
            "width": null
          }
        },
        "9746646535124ee0bf8a5ef83f7f593e": {
          "model_module": "@jupyter-widgets/controls",
          "model_name": "DescriptionStyleModel",
          "model_module_version": "1.5.0",
          "state": {
            "_model_module": "@jupyter-widgets/controls",
            "_model_module_version": "1.5.0",
            "_model_name": "DescriptionStyleModel",
            "_view_count": null,
            "_view_module": "@jupyter-widgets/base",
            "_view_module_version": "1.2.0",
            "_view_name": "StyleView",
            "description_width": ""
          }
        },
        "376490699be84090a7bbcb08fcb1c774": {
          "model_module": "@jupyter-widgets/base",
          "model_name": "LayoutModel",
          "model_module_version": "1.2.0",
          "state": {
            "_model_module": "@jupyter-widgets/base",
            "_model_module_version": "1.2.0",
            "_model_name": "LayoutModel",
            "_view_count": null,
            "_view_module": "@jupyter-widgets/base",
            "_view_module_version": "1.2.0",
            "_view_name": "LayoutView",
            "align_content": null,
            "align_items": null,
            "align_self": null,
            "border": null,
            "bottom": null,
            "display": null,
            "flex": null,
            "flex_flow": null,
            "grid_area": null,
            "grid_auto_columns": null,
            "grid_auto_flow": null,
            "grid_auto_rows": null,
            "grid_column": null,
            "grid_gap": null,
            "grid_row": null,
            "grid_template_areas": null,
            "grid_template_columns": null,
            "grid_template_rows": null,
            "height": null,
            "justify_content": null,
            "justify_items": null,
            "left": null,
            "margin": null,
            "max_height": null,
            "max_width": null,
            "min_height": null,
            "min_width": null,
            "object_fit": null,
            "object_position": null,
            "order": null,
            "overflow": null,
            "overflow_x": null,
            "overflow_y": null,
            "padding": null,
            "right": null,
            "top": null,
            "visibility": null,
            "width": null
          }
        },
        "3312a9808f764362b036b55659bbfce9": {
          "model_module": "@jupyter-widgets/controls",
          "model_name": "ProgressStyleModel",
          "model_module_version": "1.5.0",
          "state": {
            "_model_module": "@jupyter-widgets/controls",
            "_model_module_version": "1.5.0",
            "_model_name": "ProgressStyleModel",
            "_view_count": null,
            "_view_module": "@jupyter-widgets/base",
            "_view_module_version": "1.2.0",
            "_view_name": "StyleView",
            "bar_color": null,
            "description_width": ""
          }
        },
        "ea6d1c79ead14824a79d67258dc39fc4": {
          "model_module": "@jupyter-widgets/base",
          "model_name": "LayoutModel",
          "model_module_version": "1.2.0",
          "state": {
            "_model_module": "@jupyter-widgets/base",
            "_model_module_version": "1.2.0",
            "_model_name": "LayoutModel",
            "_view_count": null,
            "_view_module": "@jupyter-widgets/base",
            "_view_module_version": "1.2.0",
            "_view_name": "LayoutView",
            "align_content": null,
            "align_items": null,
            "align_self": null,
            "border": null,
            "bottom": null,
            "display": null,
            "flex": null,
            "flex_flow": null,
            "grid_area": null,
            "grid_auto_columns": null,
            "grid_auto_flow": null,
            "grid_auto_rows": null,
            "grid_column": null,
            "grid_gap": null,
            "grid_row": null,
            "grid_template_areas": null,
            "grid_template_columns": null,
            "grid_template_rows": null,
            "height": null,
            "justify_content": null,
            "justify_items": null,
            "left": null,
            "margin": null,
            "max_height": null,
            "max_width": null,
            "min_height": null,
            "min_width": null,
            "object_fit": null,
            "object_position": null,
            "order": null,
            "overflow": null,
            "overflow_x": null,
            "overflow_y": null,
            "padding": null,
            "right": null,
            "top": null,
            "visibility": null,
            "width": null
          }
        },
        "232bdc1a257f4161a4e8a1e301c245a0": {
          "model_module": "@jupyter-widgets/controls",
          "model_name": "DescriptionStyleModel",
          "model_module_version": "1.5.0",
          "state": {
            "_model_module": "@jupyter-widgets/controls",
            "_model_module_version": "1.5.0",
            "_model_name": "DescriptionStyleModel",
            "_view_count": null,
            "_view_module": "@jupyter-widgets/base",
            "_view_module_version": "1.2.0",
            "_view_name": "StyleView",
            "description_width": ""
          }
        }
      }
    }
  },
  "cells": [
    {
      "cell_type": "markdown",
      "metadata": {
        "id": "view-in-github",
        "colab_type": "text"
      },
      "source": [
        "<a href=\"https://colab.research.google.com/github/nrimsky/LM-exp/blob/main/activation_engineering.ipynb\" target=\"_parent\"><img src=\"https://colab.research.google.com/assets/colab-badge.svg\" alt=\"Open In Colab\"/></a>"
      ]
    },
    {
      "cell_type": "code",
      "execution_count": 1,
      "metadata": {
        "colab": {
          "base_uri": "https://localhost:8080/"
        },
        "id": "PM8jUQIQSon-",
        "outputId": "fd9a2c8f-539a-44c6-f393-552b9440c2d1"
      },
      "outputs": [
        {
          "output_type": "stream",
          "name": "stdout",
          "text": [
            "Requirement already satisfied: transformers in /usr/local/lib/python3.10/dist-packages (4.30.2)\n",
            "Requirement already satisfied: filelock in /usr/local/lib/python3.10/dist-packages (from transformers) (3.12.2)\n",
            "Requirement already satisfied: huggingface-hub<1.0,>=0.14.1 in /usr/local/lib/python3.10/dist-packages (from transformers) (0.16.4)\n",
            "Requirement already satisfied: numpy>=1.17 in /usr/local/lib/python3.10/dist-packages (from transformers) (1.22.4)\n",
            "Requirement already satisfied: packaging>=20.0 in /usr/local/lib/python3.10/dist-packages (from transformers) (23.1)\n",
            "Requirement already satisfied: pyyaml>=5.1 in /usr/local/lib/python3.10/dist-packages (from transformers) (6.0)\n",
            "Requirement already satisfied: regex!=2019.12.17 in /usr/local/lib/python3.10/dist-packages (from transformers) (2022.10.31)\n",
            "Requirement already satisfied: requests in /usr/local/lib/python3.10/dist-packages (from transformers) (2.27.1)\n",
            "Requirement already satisfied: tokenizers!=0.11.3,<0.14,>=0.11.1 in /usr/local/lib/python3.10/dist-packages (from transformers) (0.13.3)\n",
            "Requirement already satisfied: safetensors>=0.3.1 in /usr/local/lib/python3.10/dist-packages (from transformers) (0.3.1)\n",
            "Requirement already satisfied: tqdm>=4.27 in /usr/local/lib/python3.10/dist-packages (from transformers) (4.65.0)\n",
            "Requirement already satisfied: fsspec in /usr/local/lib/python3.10/dist-packages (from huggingface-hub<1.0,>=0.14.1->transformers) (2023.6.0)\n",
            "Requirement already satisfied: typing-extensions>=3.7.4.3 in /usr/local/lib/python3.10/dist-packages (from huggingface-hub<1.0,>=0.14.1->transformers) (4.7.1)\n",
            "Requirement already satisfied: urllib3<1.27,>=1.21.1 in /usr/local/lib/python3.10/dist-packages (from requests->transformers) (1.26.16)\n",
            "Requirement already satisfied: certifi>=2017.4.17 in /usr/local/lib/python3.10/dist-packages (from requests->transformers) (2023.5.7)\n",
            "Requirement already satisfied: charset-normalizer~=2.0.0 in /usr/local/lib/python3.10/dist-packages (from requests->transformers) (2.0.12)\n",
            "Requirement already satisfied: idna<4,>=2.5 in /usr/local/lib/python3.10/dist-packages (from requests->transformers) (3.4)\n"
          ]
        }
      ],
      "source": [
        "!pip install transformers"
      ]
    },
    {
      "cell_type": "code",
      "source": [
        "import torch\n",
        "from transformers import AutoTokenizer, AutoModelForCausalLM\n",
        "\n",
        "def get_log_prob(logits, token_ids, start_idx):\n",
        "    p = torch.nn.functional.softmax(logits[0], dim=-1)\n",
        "    logprobs = torch.log(p)\n",
        "    tot = 0\n",
        "    for i in range(start_idx, len(token_ids) - 1):\n",
        "        tot += logprobs[i][token_ids[i + 1]].item()\n",
        "    return tot\n",
        "\n",
        "def pad_tensors_to_same_size(tensor1, tensor2):\n",
        "    # Ensure tensor2 is no larger than tensor1 along the second dimension\n",
        "    if tensor2.size(1) > tensor1.size(1):\n",
        "        tensor2 = tensor2[:, :tensor1.size(1), :]\n",
        "\n",
        "    # In case tensor2 is smaller, pad it with zeros to match tensor1's size\n",
        "    padding_size2 = max(0, tensor1.size(1) - tensor2.size(1))\n",
        "    if padding_size2 > 0:\n",
        "        padding2 = torch.zeros((tensor2.size(0), padding_size2, tensor2.size(2)), device=tensor2.device)\n",
        "        tensor2 = torch.cat([tensor2, padding2], dim=1)\n",
        "\n",
        "    return tensor1, tensor2\n",
        "\n",
        "def prompt_completion_log_prob(p1, p2, model, tokenizer, device=\"cpu\"):\n",
        "    p1 = tokenizer(p1, return_tensors=\"pt\").input_ids\n",
        "    p2 = tokenizer(p2, return_tensors=\"pt\").input_ids[:, 2:]\n",
        "    p2_start_idx = p1.size(1)\n",
        "    inputs = torch.cat([p1, p2], dim=1)\n",
        "    with torch.no_grad():\n",
        "        logits = model(inputs.to(device)).logits\n",
        "    return get_log_prob(logits, inputs[0], p2_start_idx)\n",
        "\n",
        "class BlockOutputWrapper(torch.nn.Module):\n",
        "    def __init__(self, block):\n",
        "        super().__init__()\n",
        "        self.block = block\n",
        "        self.last_hidden_state = None\n",
        "        self.add_activations = None\n",
        "\n",
        "    def forward(self, *args, **kwargs):\n",
        "        output = self.block(*args, **kwargs)\n",
        "        self.last_hidden_state = output[0]\n",
        "        if self.add_activations is not None:\n",
        "            o1, o2 = pad_tensors_to_same_size(output[0], self.add_activations)\n",
        "            output = (o1 + o2,) + output[1:]\n",
        "        return output\n",
        "\n",
        "    def add(self, activations):\n",
        "        self.add_activations = activations\n",
        "\n",
        "    def reset(self):\n",
        "        self.last_hidden_state = None\n",
        "        self.add_activations = None\n",
        "\n",
        "class ValueProjWrapper(torch.nn.Module):\n",
        "    def __init__(self, vproj):\n",
        "        super().__init__()\n",
        "        self.vproj = vproj\n",
        "        self.last_values = None\n",
        "        self.add_values = None\n",
        "\n",
        "    def forward(self, *args, **kwargs):\n",
        "        output = self.vproj(*args, **kwargs)\n",
        "        self.last_values = output\n",
        "        if self.add_values is not None:\n",
        "            o1, o2 = pad_tensors_to_same_size(output, self.add_values)\n",
        "            return o1 + o2\n",
        "        return output\n",
        "\n",
        "    def add(self, add_values):\n",
        "        self.add_values = add_values\n",
        "\n",
        "    def reset(self):\n",
        "        self.last_values = None\n",
        "        self.add_values = None\n",
        "\n",
        "class Llama7BHelper:\n",
        "    def __init__(self, pretrained_model=\"huggyllama/llama-7b\"):\n",
        "        self.device = \"cuda\" if torch.cuda.is_available() else \"cpu\"\n",
        "        self.tokenizer = AutoTokenizer.from_pretrained(pretrained_model)\n",
        "        self.model = AutoModelForCausalLM.from_pretrained(pretrained_model).to(self.device)\n",
        "        for i, layer in enumerate(self.model.model.layers):\n",
        "            self.model.model.layers[i].self_attn.v_proj = ValueProjWrapper(layer.self_attn.v_proj)\n",
        "            self.model.model.layers[i] = BlockOutputWrapper(layer)\n",
        "\n",
        "    def generate_text(self, prompt, max_length=100):\n",
        "        inputs = self.tokenizer(prompt, return_tensors=\"pt\")\n",
        "        generate_ids = self.model.generate(inputs.input_ids.to(self.device), max_length=max_length)\n",
        "        return self.tokenizer.batch_decode(generate_ids, skip_special_tokens=True, clean_up_tokenization_spaces=False)[0]\n",
        "\n",
        "    def get_logits(self, prompt):\n",
        "        inputs = self.tokenizer(prompt, return_tensors=\"pt\")\n",
        "        with torch.no_grad():\n",
        "          logits = self.model(inputs.input_ids.to(self.device)).logits\n",
        "          return logits\n",
        "\n",
        "    def get_last_activations(self, layer):\n",
        "        return self.model.model.layers[layer].last_hidden_state\n",
        "\n",
        "    def get_last_attn_values(self, layer):\n",
        "        return self.model.model.layers[layer].block.self_attn.v_proj.last_values\n",
        "\n",
        "    def set_add_activations(self, layer, activations):\n",
        "        self.model.model.layers[layer].add(activations)\n",
        "\n",
        "    def set_add_attn_values(self, layer, values):\n",
        "        self.model.model.layers[layer].block.self_attn.v_proj.add(values)\n",
        "\n",
        "    def reset_all(self):\n",
        "        for layer in self.model.model.layers:\n",
        "            layer.block.self_attn.v_proj.reset()\n",
        "            layer.reset()\n",
        "\n",
        "    def mix_activations(self, base_input, mixing_input, multiplier, layer, values_only=False, max_length=100):\n",
        "        self.reset_all()\n",
        "        self.get_logits(mixing_input)\n",
        "        mixing_values = None\n",
        "        if values_only:\n",
        "            mixing_values = self.get_last_attn_values(layer)\n",
        "        else:\n",
        "            mixing_values = self.get_last_activations(layer)\n",
        "        mixing_values *= multiplier\n",
        "        if values_only:\n",
        "            self.set_add_attn_values(layer, mixing_values)\n",
        "        else:\n",
        "            self.set_add_activations(layer, mixing_values)\n",
        "        return self.generate_text(base_input, max_length=max_length)"
      ],
      "metadata": {
        "id": "DXUeTrib2WQP"
      },
      "execution_count": 2,
      "outputs": []
    },
    {
      "cell_type": "code",
      "source": [
        "model = Llama7BHelper()"
      ],
      "metadata": {
        "colab": {
          "base_uri": "https://localhost:8080/",
          "height": 49,
          "referenced_widgets": [
            "93ba82e5359b46e194950f68006a2496",
            "c7be9aca0aa7450399f65056433dfc75",
            "603f35b5ded4498abf02fedd32e28d3f",
            "17fe0948797149b1b20feef71257bfeb",
            "862b1bce637a456fa098db1cd3ce8c87",
            "7b4dfb3dd2334538b9dc15ef5af5407a",
            "9746646535124ee0bf8a5ef83f7f593e",
            "376490699be84090a7bbcb08fcb1c774",
            "3312a9808f764362b036b55659bbfce9",
            "ea6d1c79ead14824a79d67258dc39fc4",
            "232bdc1a257f4161a4e8a1e301c245a0"
          ]
        },
        "id": "trTn0GWX2Xe8",
        "outputId": "88d77bc6-ee3f-48f2-8d2a-709ea5ea46e6"
      },
      "execution_count": 3,
      "outputs": [
        {
          "output_type": "display_data",
          "data": {
            "text/plain": [
              "Loading checkpoint shards:   0%|          | 0/2 [00:00<?, ?it/s]"
            ],
            "application/vnd.jupyter.widget-view+json": {
              "version_major": 2,
              "version_minor": 0,
              "model_id": "93ba82e5359b46e194950f68006a2496"
            }
          },
          "metadata": {}
        }
      ]
    },
    {
      "cell_type": "code",
      "source": [
        "model.mix_activations(\"My favorite food is\", \"I am vegan, I like animals, I like nature\", 10, 20, values_only=True, max_length=40)"
      ],
      "metadata": {
        "colab": {
          "base_uri": "https://localhost:8080/",
          "height": 35
        },
        "id": "LOhTm3h658e7",
        "outputId": "e4c1eb57-d441-43fa-accb-52c35950f408"
      },
      "execution_count": 70,
      "outputs": [
        {
          "output_type": "execute_result",
          "data": {
            "text/plain": [
              "'My favorite food is a veggie burger. I love them. I love them so much that I have a hard time eating them because I’m afraid I’ll get sick of'"
            ],
            "application/vnd.google.colaboratory.intrinsic+json": {
              "type": "string"
            }
          },
          "metadata": {},
          "execution_count": 70
        }
      ]
    },
    {
      "cell_type": "code",
      "source": [
        "model.mix_activations(\"My favorite food is\", \"I am a carnivore, I love meat\", 10, 20, values_only=True, max_length=40)"
      ],
      "metadata": {
        "colab": {
          "base_uri": "https://localhost:8080/",
          "height": 35
        },
        "id": "z4ecixAmBBWr",
        "outputId": "db5823f9-3553-4b95-e1e3-f00e3e432611"
      },
      "execution_count": 71,
      "outputs": [
        {
          "output_type": "execute_result",
          "data": {
            "text/plain": [
              "'My favorite food is a good old fashioned burger. I love them. I love the smell of them, the taste of them, the way they look, the way they feel in'"
            ],
            "application/vnd.google.colaboratory.intrinsic+json": {
              "type": "string"
            }
          },
          "metadata": {},
          "execution_count": 71
        }
      ]
    },
    {
      "cell_type": "code",
      "source": [
        "model.mix_activations(\"The capital of Germany is\", \"Baguettes, Cheese, Croissants\", 17, 25, values_only=True, max_length=16)"
      ],
      "metadata": {
        "colab": {
          "base_uri": "https://localhost:8080/",
          "height": 35
        },
        "id": "WWphaI3IDI7_",
        "outputId": "75cb435a-05ad-468a-97ad-608b389ad02f"
      },
      "execution_count": 100,
      "outputs": [
        {
          "output_type": "execute_result",
          "data": {
            "text/plain": [
              "'The capital of Germany is Paris, but the capital of France is Paris.'"
            ],
            "application/vnd.google.colaboratory.intrinsic+json": {
              "type": "string"
            }
          },
          "metadata": {},
          "execution_count": 100
        }
      ]
    },
    {
      "cell_type": "code",
      "source": [],
      "metadata": {
        "id": "w4ANsVOCDX-H"
      },
      "execution_count": null,
      "outputs": []
    }
  ]
}