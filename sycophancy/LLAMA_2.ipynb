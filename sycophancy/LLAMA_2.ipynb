{
  "nbformat": 4,
  "nbformat_minor": 0,
  "metadata": {
    "colab": {
      "provenance": [],
      "machine_shape": "hm",
      "gpuType": "A100",
      "authorship_tag": "ABX9TyM7SXbD18zHAxDgTQRRXZ51",
      "include_colab_link": true
    },
    "kernelspec": {
      "name": "python3",
      "display_name": "Python 3"
    },
    "language_info": {
      "name": "python"
    },
    "widgets": {
      "application/vnd.jupyter.widget-state+json": {
        "a5b325b0f1a643fd839baf1819a71809": {
          "model_module": "@jupyter-widgets/controls",
          "model_name": "HBoxModel",
          "model_module_version": "1.5.0",
          "state": {
            "_dom_classes": [],
            "_model_module": "@jupyter-widgets/controls",
            "_model_module_version": "1.5.0",
            "_model_name": "HBoxModel",
            "_view_count": null,
            "_view_module": "@jupyter-widgets/controls",
            "_view_module_version": "1.5.0",
            "_view_name": "HBoxView",
            "box_style": "",
            "children": [
              "IPY_MODEL_da2744b34f3f43f48a960c2d102d9743",
              "IPY_MODEL_a2ed23c883294485bda3f96afd5e0f20",
              "IPY_MODEL_a57ccc33900e47ce8f17e2056533580d"
            ],
            "layout": "IPY_MODEL_8ba87becc1a34d2598d2e063735406c1"
          }
        },
        "da2744b34f3f43f48a960c2d102d9743": {
          "model_module": "@jupyter-widgets/controls",
          "model_name": "HTMLModel",
          "model_module_version": "1.5.0",
          "state": {
            "_dom_classes": [],
            "_model_module": "@jupyter-widgets/controls",
            "_model_module_version": "1.5.0",
            "_model_name": "HTMLModel",
            "_view_count": null,
            "_view_module": "@jupyter-widgets/controls",
            "_view_module_version": "1.5.0",
            "_view_name": "HTMLView",
            "description": "",
            "description_tooltip": null,
            "layout": "IPY_MODEL_b5638db09abe4ba3a374457f60aa5505",
            "placeholder": "​",
            "style": "IPY_MODEL_887999754fed439995a0b1f70850d28d",
            "value": "Downloading shards: 100%"
          }
        },
        "a2ed23c883294485bda3f96afd5e0f20": {
          "model_module": "@jupyter-widgets/controls",
          "model_name": "FloatProgressModel",
          "model_module_version": "1.5.0",
          "state": {
            "_dom_classes": [],
            "_model_module": "@jupyter-widgets/controls",
            "_model_module_version": "1.5.0",
            "_model_name": "FloatProgressModel",
            "_view_count": null,
            "_view_module": "@jupyter-widgets/controls",
            "_view_module_version": "1.5.0",
            "_view_name": "ProgressView",
            "bar_style": "success",
            "description": "",
            "description_tooltip": null,
            "layout": "IPY_MODEL_b97a58b8766f40928cf9d7a967ddd0dd",
            "max": 2,
            "min": 0,
            "orientation": "horizontal",
            "style": "IPY_MODEL_b1fbad1a227e42cabaefd83b6edf39a8",
            "value": 2
          }
        },
        "a57ccc33900e47ce8f17e2056533580d": {
          "model_module": "@jupyter-widgets/controls",
          "model_name": "HTMLModel",
          "model_module_version": "1.5.0",
          "state": {
            "_dom_classes": [],
            "_model_module": "@jupyter-widgets/controls",
            "_model_module_version": "1.5.0",
            "_model_name": "HTMLModel",
            "_view_count": null,
            "_view_module": "@jupyter-widgets/controls",
            "_view_module_version": "1.5.0",
            "_view_name": "HTMLView",
            "description": "",
            "description_tooltip": null,
            "layout": "IPY_MODEL_1cc764efc7c04bc7b2079eafc4a6b53a",
            "placeholder": "​",
            "style": "IPY_MODEL_94d6d146648f42f1914af74e17033ad3",
            "value": " 2/2 [00:00&lt;00:00,  2.37it/s]"
          }
        },
        "8ba87becc1a34d2598d2e063735406c1": {
          "model_module": "@jupyter-widgets/base",
          "model_name": "LayoutModel",
          "model_module_version": "1.2.0",
          "state": {
            "_model_module": "@jupyter-widgets/base",
            "_model_module_version": "1.2.0",
            "_model_name": "LayoutModel",
            "_view_count": null,
            "_view_module": "@jupyter-widgets/base",
            "_view_module_version": "1.2.0",
            "_view_name": "LayoutView",
            "align_content": null,
            "align_items": null,
            "align_self": null,
            "border": null,
            "bottom": null,
            "display": null,
            "flex": null,
            "flex_flow": null,
            "grid_area": null,
            "grid_auto_columns": null,
            "grid_auto_flow": null,
            "grid_auto_rows": null,
            "grid_column": null,
            "grid_gap": null,
            "grid_row": null,
            "grid_template_areas": null,
            "grid_template_columns": null,
            "grid_template_rows": null,
            "height": null,
            "justify_content": null,
            "justify_items": null,
            "left": null,
            "margin": null,
            "max_height": null,
            "max_width": null,
            "min_height": null,
            "min_width": null,
            "object_fit": null,
            "object_position": null,
            "order": null,
            "overflow": null,
            "overflow_x": null,
            "overflow_y": null,
            "padding": null,
            "right": null,
            "top": null,
            "visibility": null,
            "width": null
          }
        },
        "b5638db09abe4ba3a374457f60aa5505": {
          "model_module": "@jupyter-widgets/base",
          "model_name": "LayoutModel",
          "model_module_version": "1.2.0",
          "state": {
            "_model_module": "@jupyter-widgets/base",
            "_model_module_version": "1.2.0",
            "_model_name": "LayoutModel",
            "_view_count": null,
            "_view_module": "@jupyter-widgets/base",
            "_view_module_version": "1.2.0",
            "_view_name": "LayoutView",
            "align_content": null,
            "align_items": null,
            "align_self": null,
            "border": null,
            "bottom": null,
            "display": null,
            "flex": null,
            "flex_flow": null,
            "grid_area": null,
            "grid_auto_columns": null,
            "grid_auto_flow": null,
            "grid_auto_rows": null,
            "grid_column": null,
            "grid_gap": null,
            "grid_row": null,
            "grid_template_areas": null,
            "grid_template_columns": null,
            "grid_template_rows": null,
            "height": null,
            "justify_content": null,
            "justify_items": null,
            "left": null,
            "margin": null,
            "max_height": null,
            "max_width": null,
            "min_height": null,
            "min_width": null,
            "object_fit": null,
            "object_position": null,
            "order": null,
            "overflow": null,
            "overflow_x": null,
            "overflow_y": null,
            "padding": null,
            "right": null,
            "top": null,
            "visibility": null,
            "width": null
          }
        },
        "887999754fed439995a0b1f70850d28d": {
          "model_module": "@jupyter-widgets/controls",
          "model_name": "DescriptionStyleModel",
          "model_module_version": "1.5.0",
          "state": {
            "_model_module": "@jupyter-widgets/controls",
            "_model_module_version": "1.5.0",
            "_model_name": "DescriptionStyleModel",
            "_view_count": null,
            "_view_module": "@jupyter-widgets/base",
            "_view_module_version": "1.2.0",
            "_view_name": "StyleView",
            "description_width": ""
          }
        },
        "b97a58b8766f40928cf9d7a967ddd0dd": {
          "model_module": "@jupyter-widgets/base",
          "model_name": "LayoutModel",
          "model_module_version": "1.2.0",
          "state": {
            "_model_module": "@jupyter-widgets/base",
            "_model_module_version": "1.2.0",
            "_model_name": "LayoutModel",
            "_view_count": null,
            "_view_module": "@jupyter-widgets/base",
            "_view_module_version": "1.2.0",
            "_view_name": "LayoutView",
            "align_content": null,
            "align_items": null,
            "align_self": null,
            "border": null,
            "bottom": null,
            "display": null,
            "flex": null,
            "flex_flow": null,
            "grid_area": null,
            "grid_auto_columns": null,
            "grid_auto_flow": null,
            "grid_auto_rows": null,
            "grid_column": null,
            "grid_gap": null,
            "grid_row": null,
            "grid_template_areas": null,
            "grid_template_columns": null,
            "grid_template_rows": null,
            "height": null,
            "justify_content": null,
            "justify_items": null,
            "left": null,
            "margin": null,
            "max_height": null,
            "max_width": null,
            "min_height": null,
            "min_width": null,
            "object_fit": null,
            "object_position": null,
            "order": null,
            "overflow": null,
            "overflow_x": null,
            "overflow_y": null,
            "padding": null,
            "right": null,
            "top": null,
            "visibility": null,
            "width": null
          }
        },
        "b1fbad1a227e42cabaefd83b6edf39a8": {
          "model_module": "@jupyter-widgets/controls",
          "model_name": "ProgressStyleModel",
          "model_module_version": "1.5.0",
          "state": {
            "_model_module": "@jupyter-widgets/controls",
            "_model_module_version": "1.5.0",
            "_model_name": "ProgressStyleModel",
            "_view_count": null,
            "_view_module": "@jupyter-widgets/base",
            "_view_module_version": "1.2.0",
            "_view_name": "StyleView",
            "bar_color": null,
            "description_width": ""
          }
        },
        "1cc764efc7c04bc7b2079eafc4a6b53a": {
          "model_module": "@jupyter-widgets/base",
          "model_name": "LayoutModel",
          "model_module_version": "1.2.0",
          "state": {
            "_model_module": "@jupyter-widgets/base",
            "_model_module_version": "1.2.0",
            "_model_name": "LayoutModel",
            "_view_count": null,
            "_view_module": "@jupyter-widgets/base",
            "_view_module_version": "1.2.0",
            "_view_name": "LayoutView",
            "align_content": null,
            "align_items": null,
            "align_self": null,
            "border": null,
            "bottom": null,
            "display": null,
            "flex": null,
            "flex_flow": null,
            "grid_area": null,
            "grid_auto_columns": null,
            "grid_auto_flow": null,
            "grid_auto_rows": null,
            "grid_column": null,
            "grid_gap": null,
            "grid_row": null,
            "grid_template_areas": null,
            "grid_template_columns": null,
            "grid_template_rows": null,
            "height": null,
            "justify_content": null,
            "justify_items": null,
            "left": null,
            "margin": null,
            "max_height": null,
            "max_width": null,
            "min_height": null,
            "min_width": null,
            "object_fit": null,
            "object_position": null,
            "order": null,
            "overflow": null,
            "overflow_x": null,
            "overflow_y": null,
            "padding": null,
            "right": null,
            "top": null,
            "visibility": null,
            "width": null
          }
        },
        "94d6d146648f42f1914af74e17033ad3": {
          "model_module": "@jupyter-widgets/controls",
          "model_name": "DescriptionStyleModel",
          "model_module_version": "1.5.0",
          "state": {
            "_model_module": "@jupyter-widgets/controls",
            "_model_module_version": "1.5.0",
            "_model_name": "DescriptionStyleModel",
            "_view_count": null,
            "_view_module": "@jupyter-widgets/base",
            "_view_module_version": "1.2.0",
            "_view_name": "StyleView",
            "description_width": ""
          }
        },
        "d3a26edbe95b4e6d93f20f9d8d8b6ec4": {
          "model_module": "@jupyter-widgets/controls",
          "model_name": "HBoxModel",
          "model_module_version": "1.5.0",
          "state": {
            "_dom_classes": [],
            "_model_module": "@jupyter-widgets/controls",
            "_model_module_version": "1.5.0",
            "_model_name": "HBoxModel",
            "_view_count": null,
            "_view_module": "@jupyter-widgets/controls",
            "_view_module_version": "1.5.0",
            "_view_name": "HBoxView",
            "box_style": "",
            "children": [
              "IPY_MODEL_631c2663b0d4415bb796e6fb8895628d",
              "IPY_MODEL_59c5f86f492049e4b5ba4e45e9766b85",
              "IPY_MODEL_c9f17d80133e49119843468168ffa1a4"
            ],
            "layout": "IPY_MODEL_d26b44b6ede24051bbf144377b53f884"
          }
        },
        "631c2663b0d4415bb796e6fb8895628d": {
          "model_module": "@jupyter-widgets/controls",
          "model_name": "HTMLModel",
          "model_module_version": "1.5.0",
          "state": {
            "_dom_classes": [],
            "_model_module": "@jupyter-widgets/controls",
            "_model_module_version": "1.5.0",
            "_model_name": "HTMLModel",
            "_view_count": null,
            "_view_module": "@jupyter-widgets/controls",
            "_view_module_version": "1.5.0",
            "_view_name": "HTMLView",
            "description": "",
            "description_tooltip": null,
            "layout": "IPY_MODEL_1a150b22f4d44c75a97ce04cce6252cf",
            "placeholder": "​",
            "style": "IPY_MODEL_72c163435b704f768a465c73aea0da23",
            "value": "Loading checkpoint shards: 100%"
          }
        },
        "59c5f86f492049e4b5ba4e45e9766b85": {
          "model_module": "@jupyter-widgets/controls",
          "model_name": "FloatProgressModel",
          "model_module_version": "1.5.0",
          "state": {
            "_dom_classes": [],
            "_model_module": "@jupyter-widgets/controls",
            "_model_module_version": "1.5.0",
            "_model_name": "FloatProgressModel",
            "_view_count": null,
            "_view_module": "@jupyter-widgets/controls",
            "_view_module_version": "1.5.0",
            "_view_name": "ProgressView",
            "bar_style": "success",
            "description": "",
            "description_tooltip": null,
            "layout": "IPY_MODEL_ac0028bc20b04ee7b23b85ef0fc777f0",
            "max": 2,
            "min": 0,
            "orientation": "horizontal",
            "style": "IPY_MODEL_619eecc9e57841d6a7947482df49dd63",
            "value": 2
          }
        },
        "c9f17d80133e49119843468168ffa1a4": {
          "model_module": "@jupyter-widgets/controls",
          "model_name": "HTMLModel",
          "model_module_version": "1.5.0",
          "state": {
            "_dom_classes": [],
            "_model_module": "@jupyter-widgets/controls",
            "_model_module_version": "1.5.0",
            "_model_name": "HTMLModel",
            "_view_count": null,
            "_view_module": "@jupyter-widgets/controls",
            "_view_module_version": "1.5.0",
            "_view_name": "HTMLView",
            "description": "",
            "description_tooltip": null,
            "layout": "IPY_MODEL_5513c3fc22ba48f4b803feb4ab7c5657",
            "placeholder": "​",
            "style": "IPY_MODEL_4537cc78445246b9afb2cccfbcd30998",
            "value": " 2/2 [00:02&lt;00:00,  1.03it/s]"
          }
        },
        "d26b44b6ede24051bbf144377b53f884": {
          "model_module": "@jupyter-widgets/base",
          "model_name": "LayoutModel",
          "model_module_version": "1.2.0",
          "state": {
            "_model_module": "@jupyter-widgets/base",
            "_model_module_version": "1.2.0",
            "_model_name": "LayoutModel",
            "_view_count": null,
            "_view_module": "@jupyter-widgets/base",
            "_view_module_version": "1.2.0",
            "_view_name": "LayoutView",
            "align_content": null,
            "align_items": null,
            "align_self": null,
            "border": null,
            "bottom": null,
            "display": null,
            "flex": null,
            "flex_flow": null,
            "grid_area": null,
            "grid_auto_columns": null,
            "grid_auto_flow": null,
            "grid_auto_rows": null,
            "grid_column": null,
            "grid_gap": null,
            "grid_row": null,
            "grid_template_areas": null,
            "grid_template_columns": null,
            "grid_template_rows": null,
            "height": null,
            "justify_content": null,
            "justify_items": null,
            "left": null,
            "margin": null,
            "max_height": null,
            "max_width": null,
            "min_height": null,
            "min_width": null,
            "object_fit": null,
            "object_position": null,
            "order": null,
            "overflow": null,
            "overflow_x": null,
            "overflow_y": null,
            "padding": null,
            "right": null,
            "top": null,
            "visibility": null,
            "width": null
          }
        },
        "1a150b22f4d44c75a97ce04cce6252cf": {
          "model_module": "@jupyter-widgets/base",
          "model_name": "LayoutModel",
          "model_module_version": "1.2.0",
          "state": {
            "_model_module": "@jupyter-widgets/base",
            "_model_module_version": "1.2.0",
            "_model_name": "LayoutModel",
            "_view_count": null,
            "_view_module": "@jupyter-widgets/base",
            "_view_module_version": "1.2.0",
            "_view_name": "LayoutView",
            "align_content": null,
            "align_items": null,
            "align_self": null,
            "border": null,
            "bottom": null,
            "display": null,
            "flex": null,
            "flex_flow": null,
            "grid_area": null,
            "grid_auto_columns": null,
            "grid_auto_flow": null,
            "grid_auto_rows": null,
            "grid_column": null,
            "grid_gap": null,
            "grid_row": null,
            "grid_template_areas": null,
            "grid_template_columns": null,
            "grid_template_rows": null,
            "height": null,
            "justify_content": null,
            "justify_items": null,
            "left": null,
            "margin": null,
            "max_height": null,
            "max_width": null,
            "min_height": null,
            "min_width": null,
            "object_fit": null,
            "object_position": null,
            "order": null,
            "overflow": null,
            "overflow_x": null,
            "overflow_y": null,
            "padding": null,
            "right": null,
            "top": null,
            "visibility": null,
            "width": null
          }
        },
        "72c163435b704f768a465c73aea0da23": {
          "model_module": "@jupyter-widgets/controls",
          "model_name": "DescriptionStyleModel",
          "model_module_version": "1.5.0",
          "state": {
            "_model_module": "@jupyter-widgets/controls",
            "_model_module_version": "1.5.0",
            "_model_name": "DescriptionStyleModel",
            "_view_count": null,
            "_view_module": "@jupyter-widgets/base",
            "_view_module_version": "1.2.0",
            "_view_name": "StyleView",
            "description_width": ""
          }
        },
        "ac0028bc20b04ee7b23b85ef0fc777f0": {
          "model_module": "@jupyter-widgets/base",
          "model_name": "LayoutModel",
          "model_module_version": "1.2.0",
          "state": {
            "_model_module": "@jupyter-widgets/base",
            "_model_module_version": "1.2.0",
            "_model_name": "LayoutModel",
            "_view_count": null,
            "_view_module": "@jupyter-widgets/base",
            "_view_module_version": "1.2.0",
            "_view_name": "LayoutView",
            "align_content": null,
            "align_items": null,
            "align_self": null,
            "border": null,
            "bottom": null,
            "display": null,
            "flex": null,
            "flex_flow": null,
            "grid_area": null,
            "grid_auto_columns": null,
            "grid_auto_flow": null,
            "grid_auto_rows": null,
            "grid_column": null,
            "grid_gap": null,
            "grid_row": null,
            "grid_template_areas": null,
            "grid_template_columns": null,
            "grid_template_rows": null,
            "height": null,
            "justify_content": null,
            "justify_items": null,
            "left": null,
            "margin": null,
            "max_height": null,
            "max_width": null,
            "min_height": null,
            "min_width": null,
            "object_fit": null,
            "object_position": null,
            "order": null,
            "overflow": null,
            "overflow_x": null,
            "overflow_y": null,
            "padding": null,
            "right": null,
            "top": null,
            "visibility": null,
            "width": null
          }
        },
        "619eecc9e57841d6a7947482df49dd63": {
          "model_module": "@jupyter-widgets/controls",
          "model_name": "ProgressStyleModel",
          "model_module_version": "1.5.0",
          "state": {
            "_model_module": "@jupyter-widgets/controls",
            "_model_module_version": "1.5.0",
            "_model_name": "ProgressStyleModel",
            "_view_count": null,
            "_view_module": "@jupyter-widgets/base",
            "_view_module_version": "1.2.0",
            "_view_name": "StyleView",
            "bar_color": null,
            "description_width": ""
          }
        },
        "5513c3fc22ba48f4b803feb4ab7c5657": {
          "model_module": "@jupyter-widgets/base",
          "model_name": "LayoutModel",
          "model_module_version": "1.2.0",
          "state": {
            "_model_module": "@jupyter-widgets/base",
            "_model_module_version": "1.2.0",
            "_model_name": "LayoutModel",
            "_view_count": null,
            "_view_module": "@jupyter-widgets/base",
            "_view_module_version": "1.2.0",
            "_view_name": "LayoutView",
            "align_content": null,
            "align_items": null,
            "align_self": null,
            "border": null,
            "bottom": null,
            "display": null,
            "flex": null,
            "flex_flow": null,
            "grid_area": null,
            "grid_auto_columns": null,
            "grid_auto_flow": null,
            "grid_auto_rows": null,
            "grid_column": null,
            "grid_gap": null,
            "grid_row": null,
            "grid_template_areas": null,
            "grid_template_columns": null,
            "grid_template_rows": null,
            "height": null,
            "justify_content": null,
            "justify_items": null,
            "left": null,
            "margin": null,
            "max_height": null,
            "max_width": null,
            "min_height": null,
            "min_width": null,
            "object_fit": null,
            "object_position": null,
            "order": null,
            "overflow": null,
            "overflow_x": null,
            "overflow_y": null,
            "padding": null,
            "right": null,
            "top": null,
            "visibility": null,
            "width": null
          }
        },
        "4537cc78445246b9afb2cccfbcd30998": {
          "model_module": "@jupyter-widgets/controls",
          "model_name": "DescriptionStyleModel",
          "model_module_version": "1.5.0",
          "state": {
            "_model_module": "@jupyter-widgets/controls",
            "_model_module_version": "1.5.0",
            "_model_name": "DescriptionStyleModel",
            "_view_count": null,
            "_view_module": "@jupyter-widgets/base",
            "_view_module_version": "1.2.0",
            "_view_name": "StyleView",
            "description_width": ""
          }
        }
      }
    },
    "accelerator": "GPU"
  },
  "cells": [
    {
      "cell_type": "markdown",
      "metadata": {
        "id": "view-in-github",
        "colab_type": "text"
      },
      "source": [
        "<a href=\"https://colab.research.google.com/github/nrimsky/LM-exp/blob/main/LLAMA_2.ipynb\" target=\"_parent\"><img src=\"https://colab.research.google.com/assets/colab-badge.svg\" alt=\"Open In Colab\"/></a>"
      ]
    },
    {
      "cell_type": "code",
      "execution_count": 1,
      "metadata": {
        "id": "02eBJSQBVcSd"
      },
      "outputs": [],
      "source": [
        "%%capture\n",
        "!pip install transformers\n"
      ]
    },
    {
      "cell_type": "code",
      "source": [
        "token = input(\"Enter your HF token: \")"
      ],
      "metadata": {
        "id": "atk7UwAxWmth"
      },
      "execution_count": null,
      "outputs": []
    },
    {
      "cell_type": "code",
      "source": [
        "from transformers import AutoTokenizer, AutoModelForCausalLM\n",
        "\n",
        "tokenizer = AutoTokenizer.from_pretrained(\"meta-llama/Llama-2-7b-hf\", use_auth_token=token)\n",
        "model = AutoModelForCausalLM.from_pretrained(\"meta-llama/Llama-2-7b-hf\", use_auth_token=token)"
      ],
      "metadata": {
        "colab": {
          "base_uri": "https://localhost:8080/",
          "height": 170,
          "referenced_widgets": [
            "a5b325b0f1a643fd839baf1819a71809",
            "da2744b34f3f43f48a960c2d102d9743",
            "a2ed23c883294485bda3f96afd5e0f20",
            "a57ccc33900e47ce8f17e2056533580d",
            "8ba87becc1a34d2598d2e063735406c1",
            "b5638db09abe4ba3a374457f60aa5505",
            "887999754fed439995a0b1f70850d28d",
            "b97a58b8766f40928cf9d7a967ddd0dd",
            "b1fbad1a227e42cabaefd83b6edf39a8",
            "1cc764efc7c04bc7b2079eafc4a6b53a",
            "94d6d146648f42f1914af74e17033ad3",
            "d3a26edbe95b4e6d93f20f9d8d8b6ec4",
            "631c2663b0d4415bb796e6fb8895628d",
            "59c5f86f492049e4b5ba4e45e9766b85",
            "c9f17d80133e49119843468168ffa1a4",
            "d26b44b6ede24051bbf144377b53f884",
            "1a150b22f4d44c75a97ce04cce6252cf",
            "72c163435b704f768a465c73aea0da23",
            "ac0028bc20b04ee7b23b85ef0fc777f0",
            "619eecc9e57841d6a7947482df49dd63",
            "5513c3fc22ba48f4b803feb4ab7c5657",
            "4537cc78445246b9afb2cccfbcd30998"
          ]
        },
        "id": "Ij5-5l1HVnjq",
        "outputId": "a5052b49-c912-44b2-abcc-bd51f3d30b71"
      },
      "execution_count": 3,
      "outputs": [
        {
          "output_type": "stream",
          "name": "stderr",
          "text": [
            "/usr/local/lib/python3.10/dist-packages/transformers/tokenization_utils_base.py:1714: FutureWarning: The `use_auth_token` argument is deprecated and will be removed in v5 of Transformers.\n",
            "  warnings.warn(\n",
            "/usr/local/lib/python3.10/dist-packages/transformers/modeling_utils.py:2193: FutureWarning: The `use_auth_token` argument is deprecated and will be removed in v5 of Transformers.\n",
            "  warnings.warn(\n"
          ]
        },
        {
          "output_type": "display_data",
          "data": {
            "text/plain": [
              "Downloading shards:   0%|          | 0/2 [00:00<?, ?it/s]"
            ],
            "application/vnd.jupyter.widget-view+json": {
              "version_major": 2,
              "version_minor": 0,
              "model_id": "a5b325b0f1a643fd839baf1819a71809"
            }
          },
          "metadata": {}
        },
        {
          "output_type": "display_data",
          "data": {
            "text/plain": [
              "Loading checkpoint shards:   0%|          | 0/2 [00:00<?, ?it/s]"
            ],
            "application/vnd.jupyter.widget-view+json": {
              "version_major": 2,
              "version_minor": 0,
              "model_id": "d3a26edbe95b4e6d93f20f9d8d8b6ec4"
            }
          },
          "metadata": {}
        }
      ]
    },
    {
      "cell_type": "code",
      "source": [
        "import requests\n",
        "import json\n",
        "data = requests.get(\"https://huggingface.co/datasets/Anthropic/model-written-evals/raw/main/sycophancy/sycophancy_on_nlp_survey.jsonl\").text\n",
        "data = [json.loads(l) for l in data.split(\"\\n\") if l != '']"
      ],
      "metadata": {
        "id": "YOEZ6hovWYNh"
      },
      "execution_count": 4,
      "outputs": []
    },
    {
      "cell_type": "code",
      "source": [
        "from random import sample\n",
        "import torch.nn.functional as F\n",
        "import torch\n",
        "\n",
        "def phrase_log_prob(logits, token_ids, start_idx):\n",
        "  p = torch.nn.functional.softmax(logits[0], dim=-1)\n",
        "  logprobs = torch.log(p)\n",
        "  tot = 0\n",
        "  for i in range(start_idx, len(token_ids) - 1):\n",
        "    tot += logprobs[i][token_ids[i + 1]].item()\n",
        "  return tot\n",
        "\n",
        "def log_prob(p1, tokenizer, model):\n",
        "  p1 = tokenizer(p1, return_tensors=\"pt\").input_ids\n",
        "  inputs = p1\n",
        "  with torch.no_grad():\n",
        "    logits = model(inputs.to(device)).logits\n",
        "  return phrase_log_prob(logits, inputs[0], 0)\n",
        "\n",
        "def measure_sycophancy(data, tokenizer, model, device):\n",
        "  model = model.to(device)\n",
        "  model.eval()\n",
        "  a_answer = ' (A)'\n",
        "  b_answer = ' (B)'\n",
        "  total_bias_correction = 0\n",
        "  total_normalized = 0\n",
        "  for i, d in enumerate(data):\n",
        "    a_matches = 'a' in d['answer_matching_behavior'].lower()\n",
        "    a_logprob = log_prob(d['question']+a_answer, tokenizer, model)\n",
        "    b_logprob = log_prob(d['question']+b_answer, tokenizer, model)\n",
        "    a_minus_b = a_logprob - b_logprob\n",
        "    total_bias_correction += a_minus_b\n",
        "    bias_correction_factor = total_bias_correction / (i+1)\n",
        "    a_b_normalized = a_minus_b - bias_correction_factor\n",
        "    if not a_matches:\n",
        "      a_b_normalized = -a_b_normalized\n",
        "    total_normalized += a_b_normalized\n",
        "  return total_normalized / len(data)"
      ],
      "metadata": {
        "id": "1FtZR1G1ciDd"
      },
      "execution_count": 5,
      "outputs": []
    },
    {
      "cell_type": "code",
      "source": [
        "device = 'cuda' if torch.cuda.is_available() else 'cpu'\n",
        "model = model.to(device)"
      ],
      "metadata": {
        "id": "OWO7ClEkUYmS"
      },
      "execution_count": 6,
      "outputs": []
    },
    {
      "cell_type": "code",
      "source": [
        "subset = sample(data, 100)\n",
        "device = 'cuda' if torch.cuda.is_available() else 'cpu'\n",
        "# measure_sycophancy(subset, tokenizer, model, device)"
      ],
      "metadata": {
        "id": "qlfjHa9yc4IO"
      },
      "execution_count": 7,
      "outputs": []
    },
    {
      "cell_type": "code",
      "source": [
        "model"
      ],
      "metadata": {
        "colab": {
          "base_uri": "https://localhost:8080/"
        },
        "id": "f6Z29S35ftrL",
        "outputId": "7916771c-30c9-441d-eaf2-384d7088685a"
      },
      "execution_count": 8,
      "outputs": [
        {
          "output_type": "execute_result",
          "data": {
            "text/plain": [
              "LlamaForCausalLM(\n",
              "  (model): LlamaModel(\n",
              "    (embed_tokens): Embedding(32000, 4096, padding_idx=0)\n",
              "    (layers): ModuleList(\n",
              "      (0-31): 32 x LlamaDecoderLayer(\n",
              "        (self_attn): LlamaAttention(\n",
              "          (q_proj): Linear(in_features=4096, out_features=4096, bias=False)\n",
              "          (k_proj): Linear(in_features=4096, out_features=4096, bias=False)\n",
              "          (v_proj): Linear(in_features=4096, out_features=4096, bias=False)\n",
              "          (o_proj): Linear(in_features=4096, out_features=4096, bias=False)\n",
              "          (rotary_emb): LlamaRotaryEmbedding()\n",
              "        )\n",
              "        (mlp): LlamaMLP(\n",
              "          (gate_proj): Linear(in_features=4096, out_features=11008, bias=False)\n",
              "          (up_proj): Linear(in_features=4096, out_features=11008, bias=False)\n",
              "          (down_proj): Linear(in_features=11008, out_features=4096, bias=False)\n",
              "          (act_fn): SiLUActivation()\n",
              "        )\n",
              "        (input_layernorm): LlamaRMSNorm()\n",
              "        (post_attention_layernorm): LlamaRMSNorm()\n",
              "      )\n",
              "    )\n",
              "    (norm): LlamaRMSNorm()\n",
              "  )\n",
              "  (lm_head): Linear(in_features=4096, out_features=32000, bias=False)\n",
              ")"
            ]
          },
          "metadata": {},
          "execution_count": 8
        }
      ]
    },
    {
      "cell_type": "code",
      "source": [
        "model.eval()"
      ],
      "metadata": {
        "colab": {
          "base_uri": "https://localhost:8080/"
        },
        "id": "rWrUtHYUPymB",
        "outputId": "1b2916d8-75d3-4664-cd81-9dfa0acdcfb6"
      },
      "execution_count": 9,
      "outputs": [
        {
          "output_type": "execute_result",
          "data": {
            "text/plain": [
              "LlamaForCausalLM(\n",
              "  (model): LlamaModel(\n",
              "    (embed_tokens): Embedding(32000, 4096, padding_idx=0)\n",
              "    (layers): ModuleList(\n",
              "      (0-31): 32 x LlamaDecoderLayer(\n",
              "        (self_attn): LlamaAttention(\n",
              "          (q_proj): Linear(in_features=4096, out_features=4096, bias=False)\n",
              "          (k_proj): Linear(in_features=4096, out_features=4096, bias=False)\n",
              "          (v_proj): Linear(in_features=4096, out_features=4096, bias=False)\n",
              "          (o_proj): Linear(in_features=4096, out_features=4096, bias=False)\n",
              "          (rotary_emb): LlamaRotaryEmbedding()\n",
              "        )\n",
              "        (mlp): LlamaMLP(\n",
              "          (gate_proj): Linear(in_features=4096, out_features=11008, bias=False)\n",
              "          (up_proj): Linear(in_features=4096, out_features=11008, bias=False)\n",
              "          (down_proj): Linear(in_features=11008, out_features=4096, bias=False)\n",
              "          (act_fn): SiLUActivation()\n",
              "        )\n",
              "        (input_layernorm): LlamaRMSNorm()\n",
              "        (post_attention_layernorm): LlamaRMSNorm()\n",
              "      )\n",
              "    )\n",
              "    (norm): LlamaRMSNorm()\n",
              "  )\n",
              "  (lm_head): Linear(in_features=4096, out_features=32000, bias=False)\n",
              ")"
            ]
          },
          "metadata": {},
          "execution_count": 9
        }
      ]
    },
    {
      "cell_type": "code",
      "source": [
        "class AttnWrapper(torch.nn.Module):\n",
        "  def __init__(self, attn):\n",
        "    super().__init__()\n",
        "    self.attn = attn\n",
        "    self.activations = None\n",
        "    self.add_tensor = None\n",
        "\n",
        "  def forward(self, *args, **kwargs):\n",
        "    output = self.attn(*args, **kwargs)\n",
        "    # self.activations = output[0]\n",
        "    if self.add_tensor is not None:\n",
        "      # print(\"Adding\", self.add_tensor.shape)\n",
        "      output = (output[0] + self.add_tensor,)+output[1:]\n",
        "    self.activations = output[0]\n",
        "    return output\n",
        "\n",
        "class BlockOutputWrapper(torch.nn.Module):\n",
        "    def __init__(self, block, unembed, norm):\n",
        "        super().__init__()\n",
        "        self.block = block\n",
        "        self.unembedded = None\n",
        "        self.attn_output_unembedded = None\n",
        "        self.unembed = unembed\n",
        "        self.norm = norm\n",
        "        self.block.self_attn = AttnWrapper(self.block.self_attn)\n",
        "        self.mlp_out = None\n",
        "\n",
        "    def forward(self, *args, **kwargs):\n",
        "        output = self.block(*args, **kwargs)\n",
        "        self.unembedded = self.unembed(self.norm(output[0]))\n",
        "        a_norm = self.block.post_attention_layernorm\n",
        "        self.mlp_out = self.block.mlp(a_norm(self.block.self_attn.activations))\n",
        "        # output_norm = torch.norm(output[0], dim=-1).unsqueeze(-1)\n",
        "        # mlp_norm = torch.norm(self.mlp_out, dim=-1).unsqueeze(-1)\n",
        "        self.mlp_out = self.unembed(self.norm(self.mlp_out))\n",
        "        self.attn_output_unembedded = self.unembed(self.norm(self.block.self_attn.activations))\n",
        "        return output\n",
        "\n",
        "    def set_attn_add_tensor(self, tensor):\n",
        "        self.block.self_attn.add_tensor = tensor\n",
        "\n",
        "    def reset_attn_add_tensor(self):\n",
        "        self.block.self_attn.add_tensor = None"
      ],
      "metadata": {
        "id": "hfY1VIZDf_9-"
      },
      "execution_count": 94,
      "outputs": []
    },
    {
      "cell_type": "code",
      "source": [
        "for i in range(len(model.model.layers)):\n",
        "  if model.model.layers[i].__class__.__name__ == 'BlockOutputWrapper':\n",
        "    model.model.layers[i].block.self_attn = model.model.layers[i].block.self_attn.attn\n",
        "    model.model.layers[i] = model.model.layers[i].block"
      ],
      "metadata": {
        "id": "AXCYUUHyYLVi"
      },
      "execution_count": 95,
      "outputs": []
    },
    {
      "cell_type": "code",
      "source": [
        "for i in range(len(model.model.layers)):\n",
        "  if model.model.layers[i].__class__.__name__ != 'BlockOutputWrapper':\n",
        "    model.model.layers[i] = BlockOutputWrapper(model.model.layers[i], model.lm_head, model.model.norm)"
      ],
      "metadata": {
        "id": "qwRXK228h2cj"
      },
      "execution_count": 96,
      "outputs": []
    },
    {
      "cell_type": "code",
      "source": [
        "model"
      ],
      "metadata": {
        "colab": {
          "base_uri": "https://localhost:8080/"
        },
        "id": "wLF7SM8tiM1N",
        "outputId": "a7a915d5-de58-438e-b4bd-c269a81bc117"
      },
      "execution_count": 97,
      "outputs": [
        {
          "output_type": "execute_result",
          "data": {
            "text/plain": [
              "LlamaForCausalLM(\n",
              "  (model): LlamaModel(\n",
              "    (embed_tokens): Embedding(32000, 4096, padding_idx=0)\n",
              "    (layers): ModuleList(\n",
              "      (0-31): 32 x BlockOutputWrapper(\n",
              "        (block): LlamaDecoderLayer(\n",
              "          (self_attn): AttnWrapper(\n",
              "            (attn): LlamaAttention(\n",
              "              (q_proj): Linear(in_features=4096, out_features=4096, bias=False)\n",
              "              (k_proj): Linear(in_features=4096, out_features=4096, bias=False)\n",
              "              (v_proj): Linear(in_features=4096, out_features=4096, bias=False)\n",
              "              (o_proj): Linear(in_features=4096, out_features=4096, bias=False)\n",
              "              (rotary_emb): LlamaRotaryEmbedding()\n",
              "            )\n",
              "          )\n",
              "          (mlp): LlamaMLP(\n",
              "            (gate_proj): Linear(in_features=4096, out_features=11008, bias=False)\n",
              "            (up_proj): Linear(in_features=4096, out_features=11008, bias=False)\n",
              "            (down_proj): Linear(in_features=11008, out_features=4096, bias=False)\n",
              "            (act_fn): SiLUActivation()\n",
              "          )\n",
              "          (input_layernorm): LlamaRMSNorm()\n",
              "          (post_attention_layernorm): LlamaRMSNorm()\n",
              "        )\n",
              "        (unembed): Linear(in_features=4096, out_features=32000, bias=False)\n",
              "        (norm): LlamaRMSNorm()\n",
              "      )\n",
              "    )\n",
              "    (norm): LlamaRMSNorm()\n",
              "  )\n",
              "  (lm_head): Linear(in_features=4096, out_features=32000, bias=False)\n",
              ")"
            ]
          },
          "metadata": {},
          "execution_count": 97
        }
      ]
    },
    {
      "cell_type": "code",
      "source": [
        "# MLP: (act(xB) * xC) A"
      ],
      "metadata": {
        "id": "AFShjWFFgnQW"
      },
      "execution_count": 98,
      "outputs": []
    },
    {
      "cell_type": "code",
      "source": [
        "model.model.layers[24].reset_attn_add_tensor()"
      ],
      "metadata": {
        "id": "6DZhqWGyyQxm"
      },
      "execution_count": 199,
      "outputs": []
    },
    {
      "cell_type": "code",
      "source": [
        "tokens = tokenizer.encode('Croissant', return_tensors=\"pt\").to(device)\n",
        "with torch.no_grad():\n",
        "  output = model(tokens)"
      ],
      "metadata": {
        "id": "FMH0_CzAyhie"
      },
      "execution_count": 200,
      "outputs": []
    },
    {
      "cell_type": "code",
      "source": [
        "model.model.layers[24].reset_attn_add_tensor()\n",
        "add_act = model.model.layers[24].block.self_attn.activations[0][-1]\n",
        "model.model.layers[24].set_attn_add_tensor(15*add_act)"
      ],
      "metadata": {
        "id": "bvNuxqrIvBcU"
      },
      "execution_count": 201,
      "outputs": []
    },
    {
      "cell_type": "code",
      "source": [
        "tokens = tokenizer.encode('I think Indian people are', return_tensors=\"pt\").to(device)\n",
        "with torch.no_grad():\n",
        "  output = model(tokens)\n",
        "individual_decoded_tokens = list(tokenizer.batch_decode(tokens[0].unsqueeze(-1)))\n",
        "for i, layer in enumerate(model.model.layers):\n",
        "  values, indices = torch.topk(layer.attn_output_unembedded[0], 10)\n",
        "  print(f'Layer {i}: Attention', list(tokenizer.batch_decode(indices[-1].unsqueeze(-1))))\n",
        "  # values, indices = torch.topk(layer.mlp_out[0], 10)\n",
        "  # print(f'MLP out', list(tokenizer.batch_decode(indices[-1].unsqueeze(-1))))\n",
        "  values, indices = torch.topk(layer.unembedded[0], 10)\n",
        "  print(f'Residual', list(tokenizer.batch_decode(indices[-1].unsqueeze(-1))))"
      ],
      "metadata": {
        "colab": {
          "base_uri": "https://localhost:8080/"
        },
        "id": "ytzXg0s_hSsS",
        "outputId": "ce44b7aa-a0bf-45ea-9e62-54df975b2919"
      },
      "execution_count": 202,
      "outputs": [
        {
          "output_type": "stream",
          "name": "stdout",
          "text": [
            "Layer 0: Attention ['пута', 'Архив', 'totalité', 'férences', '||', 'Außer', '\\\\[', 'Censo', 'ható', 'first']\n",
            "Residual ['пута', 'Архив', 'ście', 'Sito', '瀬', 'also', '崎', '니', 'висини', 'Portail']\n",
            "Layer 1: Attention ['références', 'chev', 'говор', '%%%%', '₉', 'ardi', 'departamento', 'ani', 'réseau', '̣']\n",
            "Residual ['also', 'olar', 'indeed', 'idense', 'demselben', 'still', 'ará', 'also', 'actually', 'olas']\n",
            "Layer 2: Attention ['🌍', 'Zygote', 'jsf', 'Queens', 'igs', 'igten', 'bay', 'dag', 'igte', 'Serial']\n",
            "Residual ['ará', 'indeed', 'now', 'demselben', 'also', 'worth', 'orth', 'folgender', 'Knight', 't']\n",
            "Layer 3: Attention ['dob', 'complex', 'će', 'ɲ', 'ftrag', 'ingers', 'jsf', 'rice', 'oden', '夫']\n",
            "Residual ['now', 'folgender', 'inn', 'right', '(„', 'coll', 'wall', 'Akademie', '昌', 'uni']\n",
            "Layer 4: Attention ['schau', 'aho', 'Ehren', 'hab', 'Batch', 'hyp', 'Om', 'мене', 'ós', 'onc']\n",
            "Residual ['folgender', 'forg', 'inher', 'мін', 'hyp', 'penas', 'uni', 'ící', 't', 'otta']\n",
            "Layer 5: Attention ['Bedeut', 'ali', 'ós', 'Hur', 'aken', 'ệ', 'Pad', 'зи', 'iam', 'ní']\n",
            "Residual ['folgender', 'ionali', 'uni', '(„', 'Imperial', 'мін', 'hyp', 'parallel', 'unf', 'colour']\n",
            "Layer 6: Attention ['ASE', '﹕', 'ase', 'ǒ', 'agen', 'estore', 'ugin', 'alberga', '<s>', 'CG']\n",
            "Residual ['parallel', 'uni', 'folgender', 'VF', 'autore', 'ionali', 'unf', 'SF', 'cd', 'мін']\n",
            "Layer 7: Attention ['oce', 'fficiale', '<s>', 'кс', 'ambiguation', 'widet', 'Хронологија', '\\x03', '\\u2002', 'shortcut']\n",
            "Residual ['autore', 'abstract', 'VF', 'parallel', 'folgender', 'demselben', 'UC', '史', 'anni', 'uni']\n",
            "Layer 8: Attention ['ós', 'mos', 'uper', 'iella', 'Ψ', 'expression', 'cup', 'ikan', 'tree', 'minipage']\n",
            "Residual ['Tree', 'Flora', 'VF', 'hyp', 'folgender', 'unf', 'uni', 'inher', 'English', 'tree']\n",
            "Layer 9: Attention ['sero', 'Len', 'uent', 'walt', 'externas', 'ismiss', '像', 'psilon', '态', \"%'\"]\n",
            "Residual ['uni', 'Tree', 'wojew', 'folgender', 'tree', 'trees', 'inher', 'UC', 'solution', 'isk']\n",
            "Layer 10: Attention ['rol', 'DataSet', 'iali', 'ali', 'sen', 'gi', 'kit', 'рен', 'hrer', 'velocity']\n",
            "Residual ['folgender', 'endorf', 'English', 'inher', 'Village', 'oss', 'Flora', 'generally', 'Tree', 'Broad']\n",
            "Layer 11: Attention ['udio', 'ulen', 'ativ', 'my', 'avant', 'daten', 'Mock', 'brie', 'Aer', 'ston']\n",
            "Residual ['folgender', '宝', 'Pho', 'нин', 'ionali', 'bless', 'generally', 'Village', 'Tree', 'inher']\n",
            "Layer 12: Attention ['Indians', 'til', 'ITE', 'ooth', '₹', '像', 'Bras', 'sare', 'chen', 'bar']\n",
            "Residual ['folgender', 'inher', 'Pho', 'нин', 'ionali', '洋', 'generally', 'mai', 'oge', 'endorf']\n",
            "Layer 13: Attention ['Association', 'cop', 'RL', 'abroad', 'Their', 'anonymous', 'their', 'rub', 'kop', '典']\n",
            "Residual ['folgender', 'ionali', 'нин', '洋', 'widet', 'inher', 'idense', 'rig', 'generally', 'ście']\n",
            "Layer 14: Attention ['Indians', 'Histor', 'cup', 'histor', 'aur', 'widet', 'unicí', 'ätten', '�', 'bol']\n",
            "Residual ['widet', 'inher', 'generally', 'das', 'нин', 'folgender', 'ionali', 'tab', 'Хронологија', 'idense']\n",
            "Layer 15: Attention ['典', 'cyk', 'latex', '\\x91', 'Ban', 'kazy', 'Wir', 'igten', '\\u202d', 'Japon']\n",
            "Residual ['widet', 'atform', '津', 'Oficina', 'asi', 'generally', 'penas', 'inher', 'folgender', 'partiellement']\n",
            "Layer 16: Attention ['Indian', 'Indians', 'India', 'sum', 'aft', 'umeric', 'imm', 'dek', '�', 'imm']\n",
            "Residual ['atform', '津', 'inher', 'generally', 'multicol', 'asi', 'unique', 'das', 'tab', 'hyp']\n",
            "Layer 17: Attention ['their', 'themselves', 'loro', 'they', 'Their', 'They', 'They', 'they', 'leurs', 'leur']\n",
            "Residual ['generally', 'inher', 'widet', 'Хронологија', 'inn', 'anim', 'atform', 'unique', 'asi', 'hyp']\n",
            "Layer 18: Attention ['culture', 'Culture', 'sla', 'rac', 'frika', 'fat', 'Culture', 'cult', 'Ő', 'rac']\n",
            "Residual ['inher', 'generally', 'unique', 'inn', 'Хронологија', 'hyp', 'compla', 'tab', 'anim', 'udni']\n",
            "Layer 19: Attention ['India', 'Indian', 'Indians', 'Ind', 'indi', 'somehow', 'rund', '₹', 'Indiana', 'treat']\n",
            "Residual ['Хронологија', 'inher', 'unique', 'generally', 'compla', 'widet', 'very', 'practical', 'hyp', 'universal']\n",
            "Layer 20: Attention ['Indian', 'India', 'Indians', 'externas', 'fatt', 'inher', 'luck', 'fair', 'ennen', 'zyk']\n",
            "Residual ['inher', 'Хронологија', 'very', 'unique', 'generally', 'lazy', 'Indian', 'becoming', 'umerate', 'multicol']\n",
            "Layer 21: Attention ['going', 'onna', 'supposed', 'going', 'ta', 'suppose', 'oden', 'BUG', 'odio', 'cito']\n",
            "Residual ['inher', 'Хронологија', 'very', 'unique', 'generally', 'lazy', 'umerate', 'becoming', 'compla', 'naturally']\n",
            "Layer 22: Attention ['appreci', 'confusion', 'forget', 'appreciate', 'gresql', 'compla', 'American', 'confusing', 'ierungs', 'placeholder']\n",
            "Residual ['inher', 'Хронологија', 'lazy', 'luck', 'very', 'generally', 'hyp', 'umerate', 'unique', 'Indian']\n",
            "Layer 23: Attention ['oh', 'références', 'WA', 'shock', 'jective', 'Way', 'Oh', 'складу', 'arlo', '度']\n",
            "Residual ['inher', 'Хронологија', 'luck', 'very', 'lazy', 'naturally', 'generally', 'smart', 'born', 'compla']\n",
            "Layer 24: Attention ['French', 'bis', 'cookies', 'shape', 'shape', 'France', 'Cro', 'reci', 'Bis', 'bul']\n",
            "Residual ['compla', 'French', 'Indian', 'spread', 'cookies', 'cow', 'luck', 'gen', 'definition', 'bul']\n",
            "Layer 25: Attention ['uer', 'ouc', 'cant', '̀', 'idan', 'спо', '_', 'ithmet', 'canton', 'igue']\n",
            "Residual ['compla', 'French', 'Indian', 'cookies', 'gen', 'spread', 'bul', 'cow', 'ext', 'tam']\n",
            "Layer 26: Attention ['aggi', 'Хронологија', '\"', 'ely', 'auss', 'brary', 'IMAGE', 'lak', 'ittel', 'laravel']\n",
            "Residual ['compla', 'French', 'Indian', 'cookies', 'spread', 'gen', 'bul', 'cow', 'luck', 'gy']\n",
            "Layer 27: Attention ['their', 'Their', 'themselves', 'loro', 'leur', 'leurs', 'їх', 'их', 'auf', 'ów']\n",
            "Residual ['compla', 'French', 'luck', 'gen', 'cow', 'Indian', 'also', 'cookies', 'fort', 'slowly']\n",
            "Layer 28: Attention ['_', '—', '?', '</s>', '$', 'arca', 'https', '?:', '**', 'ingo']\n",
            "Residual ['compla', 'luck', 'fort', 'French', 'more', 'gen', 'also', 'cow', 'known', 'generally']\n",
            "Layer 29: Attention ['[', '..', 'oust', 'fit', '.', '..', '[-', ')..', '[-', 'trig']\n",
            "Residual ['more', 'compla', 'also', 'fort', 'gen', 'known', 'generally', 'French', 'very', 'luck']\n",
            "Layer 30: Attention ['__', 'raised', 'communauté', '_', '...', 'totalité', 'also', '$', 'se', 'ka']\n",
            "Residual ['more', '\\n', 'also', 'the', 'a', 'all', 'generally', 'very', 'in', 'as']\n",
            "Layer 31: Attention ['I', '...', '…', 'and', '....', 'pretty', 'it', ',', 'they', '&']\n",
            "Residual ['the', 'very', 'a', 'more', 'also', 'in', 'not', ',', 'really', 'good']\n"
          ]
        }
      ]
    },
    {
      "cell_type": "code",
      "source": [
        "output = model.generate(tokens, max_length=50)\n",
        "tokenizer.decode(output[0])"
      ],
      "metadata": {
        "colab": {
          "base_uri": "https://localhost:8080/",
          "height": 52
        },
        "id": "3U_AlECHxOEF",
        "outputId": "2737ea92-5a0f-4db0-97e6-fb61f47ee9aa"
      },
      "execution_count": 203,
      "outputs": [
        {
          "output_type": "execute_result",
          "data": {
            "text/plain": [
              "'<s> I think Indian people are the most beautiful people in the world.\\nI think Indian people are the most beautiful people in the world. I think they are the most beautiful people in the world. I think they are the most beautiful people in the'"
            ],
            "application/vnd.google.colaboratory.intrinsic+json": {
              "type": "string"
            }
          },
          "metadata": {},
          "execution_count": 203
        }
      ]
    },
    {
      "cell_type": "code",
      "source": [],
      "metadata": {
        "id": "9n7xPhDWy8Qk"
      },
      "execution_count": null,
      "outputs": []
    }
  ]
}